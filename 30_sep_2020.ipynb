{
  "nbformat": 4,
  "nbformat_minor": 0,
  "metadata": {
    "colab": {
      "name": "30-sep-2020.ipynb",
      "provenance": [],
      "authorship_tag": "ABX9TyMlSwmO5FII3VPWrcVn9OqS",
      "include_colab_link": true
    },
    "kernelspec": {
      "name": "python3",
      "display_name": "Python 3"
    }
  },
  "cells": [
    {
      "cell_type": "markdown",
      "metadata": {
        "id": "view-in-github",
        "colab_type": "text"
      },
      "source": [
        "<a href=\"https://colab.research.google.com/github/Oscar-Hernandez-creator/ODBH_EDD_1358_220/blob/master/30_sep_2020.ipynb\" target=\"_parent\"><img src=\"https://colab.research.google.com/assets/colab-badge.svg\" alt=\"Open In Colab\"/></a>"
      ]
    },
    {
      "cell_type": "code",
      "metadata": {
        "id": "bfL_saiu3jnT",
        "outputId": "35bfa187-0983-459e-a93a-a673f6c0e6c4",
        "colab": {
          "base_uri": "https://localhost:8080/",
          "height": 187
        }
      },
      "source": [
        "# Fundamentos de Python 3\n",
        "edad = 21\n",
        "nombre = \"Oscar\"\n",
        "estatura = 1.70\n",
        "tiene_ine = true\n",
        "\n",
        "### compuestos\n",
        "\n",
        "#### Listas\n",
        "son mutables \n",
        "se accedea los elementos via el indice\n",
        "los elementos pueden ser de diferente tipo\n",
        "lista ejemplo = [\"manzana, 1.57, true, rojo, azul\"] (es como un array, pero que puede guardar varios tipos de variables a la vez)\n",
        "\n",
        "#### Tuplas\n",
        "Son inmutables\n",
        "se accedea los elementos via el indice\n",
        "los elementos pueden ser de diferente tipo\n",
        "tupla_ejemplo = [\"root\" , \"123,322\" , \"123 dias\"]\n",
        "#### Diccionarios\n",
        "Son equivalentes a loos Json de java escript\n",
        "#### Sets\n",
        "Son datos agrupados\n",
        "\n",
        "\n",
        "lista_ejemplo = [\"manzana\", 1.57 , True, [\"rojo\", \"azul\"]]\n",
        "\n",
        "print (lista_ejemplo [1] )\n",
        "print (lista_ejemplo [3] )\n",
        "print (lista_ejemplo [3] [1] )\n",
        "\n",
        "\n",
        "lista_ejemplo[0]= \"manzana\"\n",
        "print (lista_ejemplo)\n",
        "\n",
        "#.pop muestra el ultimo resiltado insertado\n",
        "valor = lista_ejemplo.pop()\n",
        "print(valor)\n",
        "print (lista_ejemplo)\n",
        "\n",
        "#Ayuda y Diccionario \n",
        "#Diccionario (muestra los comandos publicos y privados que se pueden realizar)\n",
        "#help (da detalles sobre los comandos recibidos por diccionario)\n",
        "#print (\"================\")\n",
        "#print (help(list))\n",
        "\n",
        "#.insert añade elementos a una lista creada previamente\n",
        "lista_ejemplo.insert(1, \"Huawei\")\n",
        "print(lista_ejemplo)\n",
        "\n",
        "conteo = lista_ejemplo.count(\"Huawei\")\n",
        "print(conteo)\n",
        "\n",
        "#.append añade una lista dentro de otra lista\n",
        "colores = [\"Morado\", \"Verde\", \"Rosa\"]\n",
        "lista_ejemplo.append(colores)\n",
        "\n",
        "print(lista_ejemplo)\n",
        "\n",
        "#.extend concatena dos listas\n",
        "lista_ejemplo.extend(colores)\n",
        "print(lista_ejemplo)"
      ],
      "execution_count": 1,
      "outputs": [
        {
          "output_type": "stream",
          "text": [
            "1.57\n",
            "['rojo', 'azul']\n",
            "azul\n",
            "['manzana', 1.57, True, ['rojo', 'azul']]\n",
            "['rojo', 'azul']\n",
            "['manzana', 1.57, True]\n",
            "['manzana', 'Huawei', 1.57, True]\n",
            "1\n",
            "['manzana', 'Huawei', 1.57, True, ['Morado', 'Verde', 'Rosa']]\n",
            "['manzana', 'Huawei', 1.57, True, ['Morado', 'Verde', 'Rosa'], 'Morado', 'Verde', 'Rosa']\n"
          ],
          "name": "stdout"
        }
      ]
    }
  ]
}