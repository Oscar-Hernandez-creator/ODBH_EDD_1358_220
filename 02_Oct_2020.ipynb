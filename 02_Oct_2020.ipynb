{
  "nbformat": 4,
  "nbformat_minor": 0,
  "metadata": {
    "colab": {
      "name": "02-Oct-2020.ipynb",
      "provenance": [],
      "authorship_tag": "ABX9TyMKO0SMolJEcpekLCeRC/j8",
      "include_colab_link": true
    },
    "kernelspec": {
      "name": "python3",
      "display_name": "Python 3"
    }
  },
  "cells": [
    {
      "cell_type": "markdown",
      "metadata": {
        "id": "view-in-github",
        "colab_type": "text"
      },
      "source": [
        "<a href=\"https://colab.research.google.com/github/Oscar-Hernandez-creator/ODBH_EDD_1358_220/blob/master/02_Oct_2020.ipynb\" target=\"_parent\"><img src=\"https://colab.research.google.com/assets/colab-badge.svg\" alt=\"Open In Colab\"/></a>"
      ]
    },
    {
      "cell_type": "code",
      "metadata": {
        "id": "43k0zK_47gQu",
        "outputId": "8ff50fd0-91fc-480f-aac1-ada57eef0cef",
        "colab": {
          "base_uri": "https://localhost:8080/",
          "height": 129
        }
      },
      "source": [
        "# Tipos de texto\n",
        "- string           str\n",
        "- enteros          int\n",
        "- numero flotante  float\n",
        "- Lógico           bool\n",
        "- Numero Complejo  complex\n",
        "- Listas           list\n",
        "- Tuplas           tuple\n",
        "- Diccionarios     dict\n",
        "- Conjuntos        set"
      ],
      "execution_count": 1,
      "outputs": [
        {
          "output_type": "error",
          "ename": "SyntaxError",
          "evalue": "ignored",
          "traceback": [
            "\u001b[0;36m  File \u001b[0;32m\"<ipython-input-1-785e099bbc2a>\"\u001b[0;36m, line \u001b[0;32m2\u001b[0m\n\u001b[0;31m    - string           str\u001b[0m\n\u001b[0m                         ^\u001b[0m\n\u001b[0;31mSyntaxError\u001b[0m\u001b[0;31m:\u001b[0m invalid syntax\n"
          ]
        }
      ]
    },
    {
      "cell_type": "code",
      "metadata": {
        "id": "NXxJkxQ18mNb"
      },
      "source": [
        "#string puede emplear ' ', \" \" o \"\"\" \"\"\"\n",
        "universidad = \"   universidad nacional autonoma de mexico\"\n",
        "#para un string de una sola palabra se suele usar ' '\n",
        "carrera= 'ico'\n",
        "area='software'\n",
        "print(carrera, area)\n",
        "# para multiples lineas se usa \"\"\"  \"\"\"\n",
        "frase=\"\"\"\n",
        "si\n",
        "algo funciona\n",
        "no\n",
        "lo arregles!!!\n",
        "\"\"\"\n",
        "print (frase)"
      ],
      "execution_count": null,
      "outputs": []
    },
    {
      "cell_type": "code",
      "metadata": {
        "id": "tAvly5nb8nvY"
      },
      "source": [
        "------------------------------\n",
        "print(universidad.upper())\n",
        "print(universidad)\n",
        "print(universidad.title)\n",
        "#eliminar espacios en un string\n",
        "universidad2= universidad.strip()\n",
        "print(universidad2)\n",
        "lista= universidad.split(\" \")\n",
        "print(lista)\n",
        "nueva=''\n",
        "for l in lista:\n",
        "  if len(l)>0:\n",
        "    nueva += l + \"\"\n",
        "print(nueva)\n",
        "\n",
        "numeros= \"1,2,34,56,100\"\n",
        "print(numeros)\n",
        "separados=numeros.split(\"4\")\n",
        "print(separados)\n",
        "separados=numeros.split(\",\")\n",
        "print(separados)\n",
        "\n",
        "#convertir string de numeros a  arreglo\n",
        "numeros_int= []\n",
        "for num in separados:\n",
        "  numeros_int.append(int(num))\n",
        "\n",
        "#muestra el numero del indice donde encuentra los caracteres introducidos\n",
        "print(universidad.index(\"na\"))\n",
        "\n",
        "#reemplaza caracteres\n",
        "print(universidad.replace(\" \",\"-\"))\n",
        "#replace no modifica la cadena original\n",
        "print(universidad)\n"
      ],
      "execution_count": null,
      "outputs": []
    },
    {
      "cell_type": "markdown",
      "metadata": {
        "id": "_8lli8SvJDan"
      },
      "source": [
        "slicing\n",
        "sintaxis [inicio: stop: incremento]"
      ]
    },
    {
      "cell_type": "code",
      "metadata": {
        "id": "w1V0FAsWJJf_"
      },
      "source": [
        "--------------------------------\n",
        "print(nueva[0])\n",
        "nueva=nueva.strip()\n",
        "#indexado negativo, comienza a contar al final del string\n",
        "print(nueva[len(nueva)-1])\n",
        "print(nueva[-1])\n",
        "\n",
        "#slicing\n",
        "print(nueva[11: 19: 1])\n",
        "print(nueva[-6: : 1])\n",
        "print(nueva[-1 :-7 :-1])\n",
        "\n",
        "#valores por defecto\n",
        "print(nueva[::2])"
      ],
      "execution_count": null,
      "outputs": []
    },
    {
      "cell_type": "code",
      "metadata": {
        "id": "2qtF38VsJOlD"
      },
      "source": [
        "bool\n",
        "acepta solo dos valores True y False True bool(1) False bool(0)"
      ],
      "execution_count": null,
      "outputs": []
    },
    {
      "cell_type": "code",
      "metadata": {
        "id": "tFfxtgQJJRuB"
      },
      "source": [
        "#para bool igual a cero sera false\n",
        "print(bool(0))\n",
        "\n",
        "#para todo valor diferente de cero es True\n",
        "print(bool(42424242))\n",
        "flag=0\n",
        "print(bool(flag))\n",
        "print (True)"
      ],
      "execution_count": null,
      "outputs": []
    },
    {
      "cell_type": "code",
      "metadata": {
        "id": "rBcXwUmrJesY"
      },
      "source": [
        "#comentarios\n",
        "para comentarios simples se usa # para comentarios de multiple linea se usa \"\"\" \"\"\"\n",
        "#Este es un comentario de linea simple\n",
        "\n",
        "\"\"\"\n",
        "Estes es \n",
        "un comentario\n",
        "de multiples lineas\n",
        "en phyton\n",
        "\"\"\""
      ],
      "execution_count": null,
      "outputs": []
    },
    {
      "cell_type": "code",
      "metadata": {
        "id": "XHeukrGwJlPc"
      },
      "source": [
        "#funcion print\n",
        "hay 4 formas de usar el print:\n",
        "\n",
        "con comas\n",
        "con signo +\n",
        "con la funcion format() de la clase string\n",
        "con el operador f\"\n",
        "---------------------#print con comas, convierte todo a string\n",
        "cantidad=2\n",
        "precio_chetos=8\n",
        "precio_fanta=12\n",
        "\n",
        "print(cantidad,precio_chetos,precio_fanta)\n",
        "\n",
        "#print con signo +, solo funciona con str\n",
        "print(\"hola\"+\"numero\")\n",
        "#muestra de como + esta sobrecargado y segun el contexto es lo que muestra\n",
        "print(cantidad+precio_chetos+precio_fanta)\n",
        "print(str (cantidad + precio_chetos + precio_fanta))"
      ],
      "execution_count": null,
      "outputs": []
    }
  ]
}