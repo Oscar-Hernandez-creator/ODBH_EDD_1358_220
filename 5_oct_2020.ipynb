{
  "nbformat": 4,
  "nbformat_minor": 0,
  "metadata": {
    "colab": {
      "name": "5-oct_2020.ipynb",
      "provenance": [],
      "authorship_tag": "ABX9TyN9mGoyc+LPj4RBsXjFWYGs",
      "include_colab_link": true
    },
    "kernelspec": {
      "name": "python3",
      "display_name": "Python 3"
    }
  },
  "cells": [
    {
      "cell_type": "markdown",
      "metadata": {
        "id": "view-in-github",
        "colab_type": "text"
      },
      "source": [
        "<a href=\"https://colab.research.google.com/github/Oscar-Hernandez-creator/ODBH_EDD_1358_220/blob/master/5_oct_2020.ipynb\" target=\"_parent\"><img src=\"https://colab.research.google.com/assets/colab-badge.svg\" alt=\"Open In Colab\"/></a>"
      ]
    },
    {
      "cell_type": "code",
      "metadata": {
        "id": "bx8LiVf5Yh3O",
        "outputId": "9719ede1-6d10-4b03-9e9c-f2a882435074",
        "colab": {
          "base_uri": "https://localhost:8080/",
          "height": 85
        }
      },
      "source": [
        "#Declaramos las variables\n",
        "precio = 12.5\n",
        "cantidad = 2\n",
        "existencias = True\n",
        "\n",
        "#Texto/Problema a imprimir: Precio de los Cheetos es de $12.5 y quiero 2 hay?: True\n",
        "print(\"El precio de los Cheetos es de: $\",precio, \" y quiero \", cantidad, \" hay?\", existencias)\n",
        "\n",
        "#Format de la clase String\n",
        "print(\"Precio de los Cheetos es {0} y quiero {1}, hay? {2}\".format(precio, cantidad, existencias))\n",
        "#Modificar el orden de las variables con el uso de asignaciones numericas\n",
        "print(\"Precio de los Cheetos es {1} y quiero {2}, hay? {0}\".format(precio, cantidad, existencias))\n",
        "\n",
        "#Operador F\n",
        "print( f\"Precio de los Cheetos es {precio} y quiero {cantidad}, hay? {existencias}\")"
      ],
      "execution_count": 1,
      "outputs": [
        {
          "output_type": "stream",
          "text": [
            "El precio de los Cheetos es de: $ 12.5  y quiero  2  hay? True\n",
            "Precio de los Cheetos es 12.5 y quiero 2, hay? True\n",
            "Precio de los Cheetos es 2 y quiero True, hay? 12.5\n",
            "Precio de los Cheetos es 12.5 y quiero 2, hay? True\n"
          ],
          "name": "stdout"
        }
      ]
    },
    {
      "cell_type": "markdown",
      "metadata": {
        "id": "tT3i5uhmZHGh"
      },
      "source": [
        "#Listas\n",
        "* declaracion [ ]\n",
        "* selector [ ]\n",
        "* mutable\n",
        "#Tuplas\n",
        "* Declaracion ( )\n",
        "* Selector [ ]\n",
        "* No mutable\n",
        "#Diccionarios\n",
        "* Conjuntos de datos de pares de llaves: valor\n",
        "* Son mutables\n",
        "* Son equivalentes a JSON\n",
        "#Conjuntos\n",
        "Grupo de elementos con la teoria de conjunto de operaciones de conjunto"
      ]
    },
    {
      "cell_type": "code",
      "metadata": {
        "id": "pkKu3o7uZZsG",
        "outputId": "3ac55da8-ee4f-4ca8-c5d9-f8c412f78798",
        "colab": {
          "base_uri": "https://localhost:8080/",
          "height": 248
        }
      },
      "source": [
        "#Listas\n",
        "materias = [\"CyP, DAA, EDD, IS, POO\"]\n",
        "print(materias)\n",
        "\n",
        "#uso de selecctor para un solo dato\n",
        "print(materias[2])\n",
        "print(materias[-1])\n",
        "print(materias[4])\n",
        "print(materias[::-1])\n",
        "\n",
        "#creamos una lista a partir de un string\n",
        "fecha = \"5 de Octubre de 2020\"\n",
        "lista_fecha = fecha.split (\" \")\n",
        "print(lista_fecha)\n",
        "\n",
        "\n",
        "lista_hora [\"15\",\"22\",\"42\"]\n",
        "hora= \" : \".join(lista_hora)\n",
        "print(hora)\n",
        "\n",
        "\n",
        "print(\"---------\")\n",
        "print(materias)\n",
        "print(lista_fecha)\n",
        "print(lista_hora)\n",
        "\n",
        "materias[0] = \"computadoras y programacion\"\n",
        "print(materias)\n",
        "\n",
        "#agregar\n",
        "materias.append(\"Calidad\")\n",
        "print(materias)\n",
        "\n",
        "\n",
        "materias.intert(2,\"Emprendimiento\")\n",
        "print(materias)\n",
        "\n",
        "materia = materias.pop()\n",
        "print(materias)\n",
        "print(materias)\n",
        "\n",
        "materia = materias.pop(1)\n",
        "print(materia)\n",
        "print(materias)\n",
        "\n",
        "#vaciarLista\n",
        "materias.clear()\n",
        "print(materias)\n",
        "\n",
        "#slicing [::]\n",
        "numeros = [0,1,2,3,4,5,6,7,8,9]\n",
        "print(numeros[4:9:1])\n",
        "print(numeros[4::1])\n",
        "print(numeros[4:9])\n",
        "\n",
        "#sustituir un segmento con slicing [0,1,2,3,-2...10]\n",
        "numeros[4:9:1] = [-2,3]\n",
        "print(numeros)\n",
        "\n",
        "\n"
      ],
      "execution_count": 10,
      "outputs": [
        {
          "output_type": "stream",
          "text": [
            "['CyP, DAA, EDD, IS, POO']\n"
          ],
          "name": "stdout"
        },
        {
          "output_type": "error",
          "ename": "IndexError",
          "evalue": "ignored",
          "traceback": [
            "\u001b[0;31m---------------------------------------------------------------------------\u001b[0m",
            "\u001b[0;31mIndexError\u001b[0m                                Traceback (most recent call last)",
            "\u001b[0;32m<ipython-input-10-3826e75a1967>\u001b[0m in \u001b[0;36m<module>\u001b[0;34m()\u001b[0m\n\u001b[1;32m      4\u001b[0m \u001b[0;34m\u001b[0m\u001b[0m\n\u001b[1;32m      5\u001b[0m \u001b[0;31m#uso de selecctor para un solo dato\u001b[0m\u001b[0;34m\u001b[0m\u001b[0;34m\u001b[0m\u001b[0;34m\u001b[0m\u001b[0m\n\u001b[0;32m----> 6\u001b[0;31m \u001b[0mprint\u001b[0m\u001b[0;34m(\u001b[0m\u001b[0mmaterias\u001b[0m\u001b[0;34m[\u001b[0m\u001b[0;36m2\u001b[0m\u001b[0;34m]\u001b[0m\u001b[0;34m)\u001b[0m\u001b[0;34m\u001b[0m\u001b[0;34m\u001b[0m\u001b[0m\n\u001b[0m\u001b[1;32m      7\u001b[0m \u001b[0mprint\u001b[0m\u001b[0;34m(\u001b[0m\u001b[0mmaterias\u001b[0m\u001b[0;34m[\u001b[0m\u001b[0;34m-\u001b[0m\u001b[0;36m1\u001b[0m\u001b[0;34m]\u001b[0m\u001b[0;34m)\u001b[0m\u001b[0;34m\u001b[0m\u001b[0;34m\u001b[0m\u001b[0m\n\u001b[1;32m      8\u001b[0m \u001b[0mprint\u001b[0m\u001b[0;34m(\u001b[0m\u001b[0mmaterias\u001b[0m\u001b[0;34m[\u001b[0m\u001b[0;36m4\u001b[0m\u001b[0;34m]\u001b[0m\u001b[0;34m)\u001b[0m\u001b[0;34m\u001b[0m\u001b[0;34m\u001b[0m\u001b[0m\n",
            "\u001b[0;31mIndexError\u001b[0m: list index out of range"
          ]
        }
      ]
    },
    {
      "cell_type": "code",
      "metadata": {
        "id": "cTz_eOHFiNS5"
      },
      "source": [
        "auntos = (\"Honda,Mazda,Akura,Tzuru\")\n",
        "Telefonos =(\"iPhone, Huawei Mate 20,Samsumg,Xiaomi\")\n",
        "Sistemas_operativos = (\"Windows, Linux, iOS, MacOs\")\n",
        "\n",
        "lista_2d = (autos,Telefonos,Sistemas_operativos)\n",
        "print(lista_2d)\n",
        "print(lista_2d[1][1])\n"
      ],
      "execution_count": null,
      "outputs": []
    }
  ]
}