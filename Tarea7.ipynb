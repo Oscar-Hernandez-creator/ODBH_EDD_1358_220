{
  "nbformat": 4,
  "nbformat_minor": 0,
  "metadata": {
    "colab": {
      "name": "Tarea7.ipynb",
      "provenance": [],
      "authorship_tag": "ABX9TyNbSf9OFeGH0SiwWSFuLScm",
      "include_colab_link": true
    },
    "kernelspec": {
      "name": "python3",
      "display_name": "Python 3"
    }
  },
  "cells": [
    {
      "cell_type": "markdown",
      "metadata": {
        "id": "view-in-github",
        "colab_type": "text"
      },
      "source": [
        "<a href=\"https://colab.research.google.com/github/Oscar-Hernandez-creator/ODBH_EDD_1358_220/blob/master/Tarea7.ipynb\" target=\"_parent\"><img src=\"https://colab.research.google.com/assets/colab-badge.svg\" alt=\"Open In Colab\"/></a>"
      ]
    },
    {
      "cell_type": "code",
      "metadata": {
        "id": "qFbTC9UfXU2w"
      },
      "source": [
        "class Stack:\n",
        "  def __init__( self ):\n",
        "    self.__data = []\n",
        "    self.__size = 0\n",
        "\n",
        "  def pop( self ):\n",
        "    self.__size -=1\n",
        "    return self.__data.pop()\n",
        "\n",
        "  def get_size( self ):\n",
        "    return self.__size\n",
        "\n",
        "  def peek( self ):\n",
        "    return self.__data[-1]\n",
        "\n",
        "  def push (self, value ):\n",
        "    self.__size +=1\n",
        "    return self.__data.append( value )\n",
        "\n",
        "  def to_string( self ):\n",
        "    print(\"-------\")\n",
        "    for dato in self.__data[ : :-1]:\n",
        "      print( f\"| { dato } |\")\n",
        "      print(\"-------\")"
      ],
      "execution_count": 3,
      "outputs": []
    },
    {
      "cell_type": "code",
      "metadata": {
        "colab": {
          "base_uri": "https://localhost:8080/"
        },
        "id": "H0U3-1I5h8u9",
        "outputId": "fd023c6a-2a97-4eee-f4eb-bc079063b2c1"
      },
      "source": [
        "pl = Stack()\n",
        "pl.push(34)\n",
        "pl.push(10)\n",
        "pl.push(45)\n",
        "pl.push(4)\n",
        "pl.push(23)\n",
        "pl.push(33)\n",
        "pl.to_string()\n",
        "print(f\"{pl.get_size()}\")\n",
        "print(\"----- \")\n",
        "valor = pl.pop()\n",
        "print( valor * 2)\n",
        "pl.to_string()\n",
        "print(\"------ \")\n",
        "valor = pl.peek()\n",
        "print( valor * 2)\n",
        "pl.to_string()\n",
        "print(\"------\")\n",
        "pl.get_size()"
      ],
      "execution_count": 4,
      "outputs": [
        {
          "output_type": "stream",
          "text": [
            "-------\n",
            "| 33 |\n",
            "-------\n",
            "| 23 |\n",
            "-------\n",
            "| 4 |\n",
            "-------\n",
            "| 45 |\n",
            "-------\n",
            "| 10 |\n",
            "-------\n",
            "| 34 |\n",
            "-------\n",
            "6\n",
            "----- \n",
            "66\n",
            "-------\n",
            "| 23 |\n",
            "-------\n",
            "| 4 |\n",
            "-------\n",
            "| 45 |\n",
            "-------\n",
            "| 10 |\n",
            "-------\n",
            "| 34 |\n",
            "-------\n",
            "------ \n",
            "46\n",
            "-------\n",
            "| 23 |\n",
            "-------\n",
            "| 4 |\n",
            "-------\n",
            "| 45 |\n",
            "-------\n",
            "| 10 |\n",
            "-------\n",
            "| 34 |\n",
            "-------\n",
            "------\n"
          ],
          "name": "stdout"
        },
        {
          "output_type": "execute_result",
          "data": {
            "text/plain": [
              "5"
            ]
          },
          "metadata": {
            "tags": []
          },
          "execution_count": 4
        }
      ]
    },
    {
      "cell_type": "code",
      "metadata": {
        "colab": {
          "base_uri": "https://localhost:8080/"
        },
        "id": "1DovHKOFh89S",
        "outputId": "cf3ad3a8-e7ac-496e-d478-a3572b607c46"
      },
      "source": [
        "# aplicaciónes de la estructura Stack\n",
        "# 1.- validación de parentesis balanceados '(' , '{' y '['\n",
        "\n",
        "cadena =\"b=3*5+(4/2))))\"\n",
        "pila = Stack()\n",
        "pila.push(\"#\") #caracter de pila vacía.\n",
        "for elem in cadena:\n",
        "  if elem == '(':\n",
        "    pila.push(\"*\")\n",
        "  elif elem == \")\" and pila.get_size() != 0:\n",
        "    pila.pop()\n",
        "  elif pila.get_size() == 0 and elem == \")\":\n",
        "    print(\"Hay demadiados parentesis de cierre y no está balanceado\")\n",
        "    pass\n",
        "\n",
        "  else:\n",
        "    pass\n",
        "if pila.get_size() != 0 :\n",
        "  if pila.peek() == \"#\":\n",
        "    print(\"La expresion está balanceada en parentesis\")\n",
        "  else:\n",
        "    print(\"La expresion no está balanceada\")"
      ],
      "execution_count": 5,
      "outputs": [
        {
          "output_type": "stream",
          "text": [
            "Hay demadiados parentesis de cierre y no está balanceado\n",
            "Hay demadiados parentesis de cierre y no está balanceado\n"
          ],
          "name": "stdout"
        }
      ]
    }
  ]
}