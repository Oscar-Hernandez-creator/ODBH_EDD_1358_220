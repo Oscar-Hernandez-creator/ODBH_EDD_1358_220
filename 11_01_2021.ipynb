{
  "nbformat": 4,
  "nbformat_minor": 0,
  "metadata": {
    "colab": {
      "name": "11-01-2021.ipynb",
      "provenance": [],
      "authorship_tag": "ABX9TyPsLDyO1CG8e2fQNym4I+cW",
      "include_colab_link": true
    },
    "kernelspec": {
      "name": "python3",
      "display_name": "Python 3"
    }
  },
  "cells": [
    {
      "cell_type": "markdown",
      "metadata": {
        "id": "view-in-github",
        "colab_type": "text"
      },
      "source": [
        "<a href=\"https://colab.research.google.com/github/Oscar-Hernandez-creator/ODBH_EDD_1358_220/blob/master/11_01_2021.ipynb\" target=\"_parent\"><img src=\"https://colab.research.google.com/assets/colab-badge.svg\" alt=\"Open In Colab\"/></a>"
      ]
    },
    {
      "cell_type": "code",
      "metadata": {
        "id": "dwgTXpFUOyh-"
      },
      "source": [
        "class NodoArbol:\r\n",
        "  def __init__(self, dato, hijo_izq=None, hijo_der=None):\r\n",
        "    self.dato=dato\r\n",
        "    self.hijo_izq= hijo_izq\r\n",
        "    self.hijo_der= hijo_der"
      ],
      "execution_count": 4,
      "outputs": []
    },
    {
      "cell_type": "code",
      "metadata": {
        "colab": {
          "base_uri": "https://localhost:8080/"
        },
        "id": "rs9kIUxaerKo",
        "outputId": "d660384b-7b8c-42b0-a5d8-921ebbf82dda"
      },
      "source": [
        "arbol= NodoArbol('R')\r\n",
        "arbol.hijo_izq= NodoArbol('C')\r\n",
        "arbol.hijo_der=NodoArbol('H')\r\n",
        "\r\n",
        "#imrpimir el valor de nodo raiz\r\n",
        "print(arbol.dato)\r\n",
        "#imrpimir el valor del hijo izq\r\n",
        "print(arbol.hijo_izq.dato)\r\n",
        "#imrpimir el valor del hijo der\r\n",
        "print(arbol.hijo_der.dato)"
      ],
      "execution_count": 5,
      "outputs": [
        {
          "output_type": "stream",
          "text": [
            "R\n",
            "C\n",
            "H\n"
          ],
          "name": "stdout"
        }
      ]
    },
    {
      "cell_type": "code",
      "metadata": {
        "colab": {
          "base_uri": "https://localhost:8080/"
        },
        "id": "40CmPc14UysU",
        "outputId": "e8fe854a-a9aa-4292-fbcd-4729e9155a3d"
      },
      "source": [
        "\r\n",
        "arbol_v2 = NodoArbol(\"R\", NodoArbol(\"C\") , NodoArbol(\"H\"))\r\n",
        "#imprimir la raiz\r\n",
        "print(arbol_v2.dato)\r\n",
        "#imprimir el hijo izq\r\n",
        "print(arbol_v2.hijo_izq.dato)\r\n",
        "#imprimir la raiz\r\n",
        "print(arbol_v2.hijo_der.dato)"
      ],
      "execution_count": 6,
      "outputs": [
        {
          "output_type": "stream",
          "text": [
            "R\n",
            "C\n",
            "H\n"
          ],
          "name": "stdout"
        }
      ]
    },
    {
      "cell_type": "code",
      "metadata": {
        "colab": {
          "base_uri": "https://localhost:8080/"
        },
        "id": "7ocJeT2Ze4HJ",
        "outputId": "4db064c7-ef52-435e-b5a9-d34f49453eea"
      },
      "source": [
        "#ejercicio 2\r\n",
        "arbol2= NodoArbol('4',NodoArbol('3',NodoArbol('2',NodoArbol('2'))),NodoArbol('5'))\r\n",
        "print(arbol2.dato)\r\n",
        "print(arbol2.hijo_izq.dato)\r\n",
        "print(arbol2.hijo_der.dato)\r\n",
        "print(arbol2.hijo_izq.hijo_izq.dato)\r\n",
        "print(arbol2.hijo_izq.hijo_izq.hijo_izq.dato)\r\n",
        "\r\n",
        "#imprimir un dato al final de la lista\r\n",
        "print(\"Imprimir el ultimo dato de n dimensiones\")\r\n",
        "aux= arbol2\r\n",
        "while aux.hijo_izq != None:\r\n",
        "  aux= aux.hijo_izq\r\n",
        "print(aux.dato)"
      ],
      "execution_count": 11,
      "outputs": [
        {
          "output_type": "stream",
          "text": [
            "4\n",
            "3\n",
            "5\n",
            "2\n",
            "2\n",
            "Imprimir el ultimo dato de n dimensiones\n",
            "2\n"
          ],
          "name": "stdout"
        }
      ]
    },
    {
      "cell_type": "code",
      "metadata": {
        "id": "KJNnVmIMe5Nt"
      },
      "source": [
        "\r\n",
        "class NodoArbol:\r\n",
        "  def __init__(self, dato, hijo_izq=None, hijo_central=None, hijo_der=None):\r\n",
        "    self.dato=dato\r\n",
        "    self.hijo_izq= hijo_izq\r\n",
        "    self.hijo_central= hijo_central\r\n",
        "    self.hijo_der= hijo_der"
      ],
      "execution_count": 13,
      "outputs": []
    },
    {
      "cell_type": "code",
      "metadata": {
        "id": "wqCuSTMKe8aI"
      },
      "source": [
        "arbol3= NodoArbol('R',NodoArbol('I',NodoArbol(None,NodoArbol('X'))),NodoArbol('C', NodoArbol('Y')),NodoArbol('D',None,None,NodoArbol('Z')))"
      ],
      "execution_count": 14,
      "outputs": []
    }
  ]
}