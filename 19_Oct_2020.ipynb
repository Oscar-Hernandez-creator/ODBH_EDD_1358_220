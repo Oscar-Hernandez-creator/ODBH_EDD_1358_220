{
  "nbformat": 4,
  "nbformat_minor": 0,
  "metadata": {
    "colab": {
      "name": "19-Oct-2020.ipynb",
      "provenance": [],
      "authorship_tag": "ABX9TyPJl7/xveWUZ8N56xbCqUhT",
      "include_colab_link": true
    },
    "kernelspec": {
      "name": "python3",
      "display_name": "Python 3"
    }
  },
  "cells": [
    {
      "cell_type": "markdown",
      "metadata": {
        "id": "view-in-github",
        "colab_type": "text"
      },
      "source": [
        "<a href=\"https://colab.research.google.com/github/Oscar-Hernandez-creator/ODBH_EDD_1358_220/blob/master/19_Oct_2020.ipynb\" target=\"_parent\"><img src=\"https://colab.research.google.com/assets/colab-badge.svg\" alt=\"Open In Colab\"/></a>"
      ]
    },
    {
      "cell_type": "code",
      "metadata": {
        "id": "SX2DfRveY9KA",
        "outputId": "2f234eb0-1886-4966-ffd4-c46a47ed128b",
        "colab": {
          "base_uri": "https://localhost:8080/",
          "height": 85
        }
      },
      "source": [
        "#reaad\n",
        "archivo = open(\"sample_data/frutas.txt\", \"rt\")\n",
        "\n",
        "data = archivo.read()\n",
        "print(data.upper())\n",
        "\n",
        "archivo.close()"
      ],
      "execution_count": 3,
      "outputs": [
        {
          "output_type": "stream",
          "text": [
            "LIMON,AGUACATE,FRESA,MANZANA\n",
            "CIRUELA,CAPULIN,NARANJA\n",
            "PERA,KIWI\n",
            "\n"
          ],
          "name": "stdout"
        }
      ]
    },
    {
      "cell_type": "code",
      "metadata": {
        "id": "KyRcNyHheCF_",
        "outputId": "0a1dac3a-e371-4247-d370-6ad6649e3f0f",
        "colab": {
          "base_uri": "https://localhost:8080/",
          "height": 119
        }
      },
      "source": [
        "#función readline\n",
        "archivo = open('sample_data/frutas.txt','rt')\n",
        "data = archivo.readline()\n",
        "while data != \"\":\n",
        "    print(data)\n",
        "    data = archivo.readline()\n",
        "\n",
        "archivo.close()"
      ],
      "execution_count": 35,
      "outputs": [
        {
          "output_type": "stream",
          "text": [
            "limon, aguacate, fresa, manzana\n",
            "\n",
            "ciruela, capulin, naranja,\n",
            "\n",
            "pera, kiwi\n",
            "\n"
          ],
          "name": "stdout"
        }
      ]
    },
    {
      "cell_type": "code",
      "metadata": {
        "id": "HZpMbGk7gFUT",
        "outputId": "083d00dc-9347-4c26-b9c8-5ec9de7c7bd0",
        "colab": {
          "base_uri": "https://localhost:8080/",
          "height": 51
        }
      },
      "source": [
        "#readlines\n",
        "archivo = open(\"sample_data/frutas.txt\",\"rt\")\n",
        "\n",
        "data = archivo.readlines()\n",
        "print(data)\n",
        "\n",
        "frutas =[]\n",
        "for linea in data:\n",
        "    frutas.append(linea.strip())\n",
        "\n",
        "frutas_final = []\n",
        "for elem in frutas:\n",
        "    for fruta in elem.split(\",\"):\n",
        "        frutas_final.append(fruta.strip())\n",
        "print(frutas)\n",
        "archivo.close()"
      ],
      "execution_count": 18,
      "outputs": [
        {
          "output_type": "stream",
          "text": [
            "['limon, aguacate, fresa, manzana\\n', 'ciruela, capulin, naranja\\n', 'pera, kiwi\\n']\n",
            "['limon, aguacate, fresa, manzana', 'ciruela, capulin, naranja', 'pera, kiwi']\n"
          ],
          "name": "stdout"
        }
      ]
    },
    {
      "cell_type": "markdown",
      "metadata": {
        "id": "HgncIhNKlJGR"
      },
      "source": [
        "#Poo con phyton \n",
        "-clase\n",
        "-objetos\n",
        "-atributos\n",
        "-metodos\n",
        "-metodos constructor\n",
        "-encapsulamiento (publico y privado)\n",
        "-herencia\n",
        "\n",
        "para declarar clases en phyton se usa la palabra reservada class"
      ]
    },
    {
      "cell_type": "code",
      "metadata": {
        "id": "6WqYDOxolrld",
        "outputId": "d107a8fa-e020-4264-a368-f98a064e3ad5",
        "colab": {
          "base_uri": "https://localhost:8080/",
          "height": 231
        }
      },
      "source": [
        "class Persona:\n",
        "  def _init_( self, edd, est ):\n",
        "    self.__edad = edd\n",
        "    self.__estatura = est\n",
        "\n",
        "  def to_string( self ):\n",
        "    print(f\"Edad = {self.__edad}, est = {self.__estatura}\")\n",
        "\n",
        "per1 = Persona(23, 1.78)\n",
        "per1.to_string()\n",
        "per1.estatura = 10.4\n",
        "per1.to_string()"
      ],
      "execution_count": 41,
      "outputs": [
        {
          "output_type": "error",
          "ename": "TypeError",
          "evalue": "ignored",
          "traceback": [
            "\u001b[0;31m---------------------------------------------------------------------------\u001b[0m",
            "\u001b[0;31mTypeError\u001b[0m                                 Traceback (most recent call last)",
            "\u001b[0;32m<ipython-input-41-733938bb3629>\u001b[0m in \u001b[0;36m<module>\u001b[0;34m()\u001b[0m\n\u001b[1;32m      7\u001b[0m     \u001b[0mprint\u001b[0m\u001b[0;34m(\u001b[0m\u001b[0;34mf\"Edad = {self.__edad}, est = {self.__estatura}\"\u001b[0m\u001b[0;34m)\u001b[0m\u001b[0;34m\u001b[0m\u001b[0;34m\u001b[0m\u001b[0m\n\u001b[1;32m      8\u001b[0m \u001b[0;34m\u001b[0m\u001b[0m\n\u001b[0;32m----> 9\u001b[0;31m \u001b[0mper1\u001b[0m \u001b[0;34m=\u001b[0m \u001b[0mPersona\u001b[0m\u001b[0;34m(\u001b[0m\u001b[0;36m23\u001b[0m\u001b[0;34m,\u001b[0m \u001b[0;36m1.78\u001b[0m\u001b[0;34m)\u001b[0m\u001b[0;34m\u001b[0m\u001b[0;34m\u001b[0m\u001b[0m\n\u001b[0m\u001b[1;32m     10\u001b[0m \u001b[0mper1\u001b[0m\u001b[0;34m.\u001b[0m\u001b[0mto_string\u001b[0m\u001b[0;34m(\u001b[0m\u001b[0;34m)\u001b[0m\u001b[0;34m\u001b[0m\u001b[0;34m\u001b[0m\u001b[0m\n\u001b[1;32m     11\u001b[0m \u001b[0mper1\u001b[0m\u001b[0;34m.\u001b[0m\u001b[0mestatura\u001b[0m \u001b[0;34m=\u001b[0m \u001b[0;36m10.4\u001b[0m\u001b[0;34m\u001b[0m\u001b[0;34m\u001b[0m\u001b[0m\n",
            "\u001b[0;31mTypeError\u001b[0m: object() takes no parameters"
          ]
        }
      ]
    }
  ]
}