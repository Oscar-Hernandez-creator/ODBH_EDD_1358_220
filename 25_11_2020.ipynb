{
  "nbformat": 4,
  "nbformat_minor": 0,
  "metadata": {
    "colab": {
      "name": "25-11-2020.ipynb",
      "provenance": [],
      "authorship_tag": "ABX9TyN0b3Y5t280wyprhFjmkzne",
      "include_colab_link": true
    },
    "kernelspec": {
      "name": "python3",
      "display_name": "Python 3"
    }
  },
  "cells": [
    {
      "cell_type": "markdown",
      "metadata": {
        "id": "view-in-github",
        "colab_type": "text"
      },
      "source": [
        "<a href=\"https://colab.research.google.com/github/Oscar-Hernandez-creator/ODBH_EDD_1358_220/blob/master/25_11_2020.ipynb\" target=\"_parent\"><img src=\"https://colab.research.google.com/assets/colab-badge.svg\" alt=\"Open In Colab\"/></a>"
      ]
    },
    {
      "cell_type": "code",
      "metadata": {
        "id": "d4L6SQaOJ53R"
      },
      "source": [
        "class NodoDoble:\n",
        "    def __init__(self,value,previo=None,siguiente=None):\n",
        "        self.data = value\n",
        "        self.prev = previo\n",
        "        self.next = siguiente\n",
        "\n",
        "class DobleLinkedList:\n",
        "    def __init__(self):\n",
        "        self.__head = None\n",
        "        self.__tail = None\n",
        "        self.__size = 0\n",
        "\n",
        "    def get_size(self):\n",
        "        return self.__size\n",
        "\n",
        "    def is_empty(self):\n",
        "        return self.__size == 0\n",
        "\n",
        "    def apend(self,value):\n",
        "        if self.__is_empty():\n",
        "            nuevo = NodoDoble( value )\n",
        "            self.__head = nuevo\n",
        "            self.__tail = nuevo\n",
        "        else:\n",
        "            nuevo = NodoDoble (value , self.__tail, None)\n",
        "            self.__tail.next = nuevo\n",
        "            self.__tail = nuevo\n",
        "\n",
        "        self.__size += 1\n",
        "    \n",
        "    def transversal(self):\n",
        "        curr_node = selff.head\n",
        "        while curr_node != None:\n",
        "            print(\"<----\",curr_node.data,\"--->\",end=\"\")\n",
        "            curr_node = curr_node.next\n",
        "            print(\"\")\n",
        "\n",
        "    def remove_from_head(self,value):\n",
        "        if self.is_empty():\n",
        "            pass\n",
        "        else:\n",
        "            curr_node = self.__head\n",
        "            while curr_node.data != value and curr_node != None:\n",
        "                curr_node = curr_node.next\n",
        "            if curr_node.data == value:\n",
        "                curr_node.prev.next = curr_node.next\n",
        "                curr_node.next.prev = curr_node.prev\n",
        "            self.__size -=1"
      ],
      "execution_count": 5,
      "outputs": []
    },
    {
      "cell_type": "code",
      "metadata": {
        "colab": {
          "base_uri": "https://localhost:8080/",
          "height": 248
        },
        "id": "CeOTjJMXRmlR",
        "outputId": "3eea2dac-0c76-426b-de70-2a9db7f25de0"
      },
      "source": [
        "ldl = DobleLinkedList()\n",
        "print(ldl.get_size())\n",
        "ldl.append(10)\n",
        "print(ldl.get_size( ))\n",
        "ldl.transversal( )\n",
        "ldl.append(20)\n",
        "ldl.append(30)\n",
        "ldl.transversal()\n",
        "ldl.remove_from_head(20)\n",
        "ldl.transversal()"
      ],
      "execution_count": 6,
      "outputs": [
        {
          "output_type": "stream",
          "text": [
            "0\n"
          ],
          "name": "stdout"
        },
        {
          "output_type": "error",
          "ename": "AttributeError",
          "evalue": "ignored",
          "traceback": [
            "\u001b[0;31m---------------------------------------------------------------------------\u001b[0m",
            "\u001b[0;31mAttributeError\u001b[0m                            Traceback (most recent call last)",
            "\u001b[0;32m<ipython-input-6-69c3bef0142c>\u001b[0m in \u001b[0;36m<module>\u001b[0;34m()\u001b[0m\n\u001b[1;32m      1\u001b[0m \u001b[0mldl\u001b[0m \u001b[0;34m=\u001b[0m \u001b[0mDobleLinkedList\u001b[0m\u001b[0;34m(\u001b[0m\u001b[0;34m)\u001b[0m\u001b[0;34m\u001b[0m\u001b[0;34m\u001b[0m\u001b[0m\n\u001b[1;32m      2\u001b[0m \u001b[0mprint\u001b[0m\u001b[0;34m(\u001b[0m\u001b[0mldl\u001b[0m\u001b[0;34m.\u001b[0m\u001b[0mget_size\u001b[0m\u001b[0;34m(\u001b[0m\u001b[0;34m)\u001b[0m\u001b[0;34m)\u001b[0m\u001b[0;34m\u001b[0m\u001b[0;34m\u001b[0m\u001b[0m\n\u001b[0;32m----> 3\u001b[0;31m \u001b[0mldl\u001b[0m\u001b[0;34m.\u001b[0m\u001b[0mappend\u001b[0m\u001b[0;34m(\u001b[0m\u001b[0;36m10\u001b[0m\u001b[0;34m)\u001b[0m\u001b[0;34m\u001b[0m\u001b[0;34m\u001b[0m\u001b[0m\n\u001b[0m\u001b[1;32m      4\u001b[0m \u001b[0mprint\u001b[0m\u001b[0;34m(\u001b[0m\u001b[0mldl\u001b[0m\u001b[0;34m.\u001b[0m\u001b[0mget_size\u001b[0m\u001b[0;34m(\u001b[0m \u001b[0;34m)\u001b[0m\u001b[0;34m)\u001b[0m\u001b[0;34m\u001b[0m\u001b[0;34m\u001b[0m\u001b[0m\n\u001b[1;32m      5\u001b[0m \u001b[0mldl\u001b[0m\u001b[0;34m.\u001b[0m\u001b[0mtransversal\u001b[0m\u001b[0;34m(\u001b[0m \u001b[0;34m)\u001b[0m\u001b[0;34m\u001b[0m\u001b[0;34m\u001b[0m\u001b[0m\n",
            "\u001b[0;31mAttributeError\u001b[0m: 'DobleLinkedList' object has no attribute 'append'"
          ]
        }
      ]
    }
  ]
}