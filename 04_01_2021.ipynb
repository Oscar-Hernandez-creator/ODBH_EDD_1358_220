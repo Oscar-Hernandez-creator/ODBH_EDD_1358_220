{
  "nbformat": 4,
  "nbformat_minor": 0,
  "metadata": {
    "colab": {
      "name": "04-01-2021.ipynb",
      "provenance": [],
      "authorship_tag": "ABX9TyM09i1QPHIEUhFbZZYH1f/x",
      "include_colab_link": true
    },
    "kernelspec": {
      "name": "python3",
      "display_name": "Python 3"
    }
  },
  "cells": [
    {
      "cell_type": "markdown",
      "metadata": {
        "id": "view-in-github",
        "colab_type": "text"
      },
      "source": [
        "<a href=\"https://colab.research.google.com/github/Oscar-Hernandez-creator/ODBH_EDD_1358_220/blob/master/04_01_2021.ipynb\" target=\"_parent\"><img src=\"https://colab.research.google.com/assets/colab-badge.svg\" alt=\"Open In Colab\"/></a>"
      ]
    },
    {
      "cell_type": "code",
      "metadata": {
        "id": "O5XbMlnQKBSN"
      },
      "source": [
        "class Queue:\r\n",
        "    def __init__(self):\r\n",
        "        self.__data = list()\r\n",
        "\r\n",
        "    def is_empty(self):\r\n",
        "        return len(self.__data) == 0\r\n",
        "\r\n",
        "    def length(self):\r\n",
        "        return len(self.__data)\r\n",
        "\r\n",
        "    def enqueue(self,item):\r\n",
        "        self.__data.append(item)\r\n",
        "\r\n",
        "    def dequeue(self):\r\n",
        "        if not self.is_empty():\r\n",
        "            return self.__data.pop(0)\r\n",
        "        else:\r\n",
        "            return None\r\n",
        "\r\n",
        "    def to_string(self):\r\n",
        "        for elem in self.__data:\r\n",
        "            print(f\"|{elem}\",end = \"\")\r\n",
        "            print(\"\")"
      ],
      "execution_count": 4,
      "outputs": []
    },
    {
      "cell_type": "code",
      "metadata": {
        "colab": {
          "base_uri": "https://localhost:8080/"
        },
        "id": "PG7DSVbuSGqS",
        "outputId": "f944e90c-28ca-44ba-a25b-4b4223fcb205"
      },
      "source": [
        "cola = Queue()\r\n",
        "cola.enqueue(10)\r\n",
        "cola.enqueue(8)\r\n",
        "cola.enqueue(100)\r\n",
        "cola.enqueue(50)\r\n",
        "cola.enqueue(90)\r\n",
        "\r\n",
        "cola.to_string()\r\n",
        "\r\n",
        "#añadir elemento\r\n",
        "cola.enqueue(89)\r\n",
        "cola.to_string()\r\n",
        "\r\n",
        "\r\n",
        "#sacar un elemento\r\n",
        "elem = cola.dequeue()\r\n",
        "print(f\"El elemento es {elem}\")\r\n",
        "cola.to_string()\r\n",
        "\r\n"
      ],
      "execution_count": 6,
      "outputs": [
        {
          "output_type": "stream",
          "text": [
            "|10\n",
            "|8\n",
            "|100\n",
            "|50\n",
            "|90\n",
            "|10\n",
            "|8\n",
            "|100\n",
            "|50\n",
            "|90\n",
            "|89\n",
            "El elemento es 10\n",
            "|8\n",
            "|100\n",
            "|50\n",
            "|90\n",
            "|89\n"
          ],
          "name": "stdout"
        }
      ]
    },
    {
      "cell_type": "code",
      "metadata": {
        "colab": {
          "base_uri": "https://localhost:8080/",
          "height": 248
        },
        "id": "M2GinvXxUjeR",
        "outputId": "530fbb6b-24af-4be6-d095-002eb9b9a8d2"
      },
      "source": [
        "c1 = { \"id\" : 1 , \"nombre\":\"Jose\" , \"balance\":2345654.99}\r\n",
        "c2 = { \"id\" : 2 , \"nombre\":\"Maria\" , \"balance\":2323.01}\r\n",
        "c3 = { \"id\" : 3 , \"nombre\":\"Jesus\" , \"balance\":333.55}\r\n",
        "\r\n",
        "queue = Queue()\r\n",
        "queue.enqueue(c1)\r\n",
        "queue.enqueue(c2)\r\n",
        "queue.enqueue(c3)\r\n",
        "queue.to_string()\r\n",
        "\r\n",
        "a_atender = queue.dequeue()\r\n",
        "print(f\"Hola señor {a_atender[nombre ]}\")"
      ],
      "execution_count": 8,
      "outputs": [
        {
          "output_type": "stream",
          "text": [
            "|{'id': 1, 'nombre': 'Jose', 'balance': 2345654.99}\n",
            "|{'id': 2, 'nombre': 'Maria', 'balance': 2323.01}\n",
            "|{'id': 3, 'nombre': 'Jesus', 'balance': 333.55}\n"
          ],
          "name": "stdout"
        },
        {
          "output_type": "error",
          "ename": "NameError",
          "evalue": "ignored",
          "traceback": [
            "\u001b[0;31m---------------------------------------------------------------------------\u001b[0m",
            "\u001b[0;31mNameError\u001b[0m                                 Traceback (most recent call last)",
            "\u001b[0;32m<ipython-input-8-057d813d7b4b>\u001b[0m in \u001b[0;36m<module>\u001b[0;34m()\u001b[0m\n\u001b[1;32m     10\u001b[0m \u001b[0;34m\u001b[0m\u001b[0m\n\u001b[1;32m     11\u001b[0m \u001b[0ma_atender\u001b[0m \u001b[0;34m=\u001b[0m \u001b[0mqueue\u001b[0m\u001b[0;34m.\u001b[0m\u001b[0mdequeue\u001b[0m\u001b[0;34m(\u001b[0m\u001b[0;34m)\u001b[0m\u001b[0;34m\u001b[0m\u001b[0;34m\u001b[0m\u001b[0m\n\u001b[0;32m---> 12\u001b[0;31m \u001b[0mprint\u001b[0m\u001b[0;34m(\u001b[0m\u001b[0;34mf\"Hola señor {a_atender[nombre ]}\"\u001b[0m\u001b[0;34m)\u001b[0m\u001b[0;34m\u001b[0m\u001b[0;34m\u001b[0m\u001b[0m\n\u001b[0m",
            "\u001b[0;31mNameError\u001b[0m: name 'nombre' is not defined"
          ]
        }
      ]
    }
  ]
}