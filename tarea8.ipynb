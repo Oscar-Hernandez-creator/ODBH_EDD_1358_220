{
  "nbformat": 4,
  "nbformat_minor": 0,
  "metadata": {
    "colab": {
      "name": "tarea8.ipynb",
      "provenance": [],
      "authorship_tag": "ABX9TyPQCyE+13bxiXklQy5mcENh",
      "include_colab_link": true
    },
    "kernelspec": {
      "name": "python3",
      "display_name": "Python 3"
    }
  },
  "cells": [
    {
      "cell_type": "markdown",
      "metadata": {
        "id": "view-in-github",
        "colab_type": "text"
      },
      "source": [
        "<a href=\"https://colab.research.google.com/github/Oscar-Hernandez-creator/ODBH_EDD_1358_220/blob/master/tarea8.ipynb\" target=\"_parent\"><img src=\"https://colab.research.google.com/assets/colab-badge.svg\" alt=\"Open In Colab\"/></a>"
      ]
    },
    {
      "cell_type": "code",
      "metadata": {
        "id": "9Hfhn3WmT0hs"
      },
      "source": [
        " def __init__(self):\r\n",
        "    self.__data= list()\r\n",
        "\r\n",
        "  def is_empty(self):\r\n",
        "    return len(self.__data)== 0\r\n",
        "\r\n",
        "  def lenght(self):\r\n",
        "    return len(self.__data)\r\n",
        "\r\n",
        "  def enqueue(self, item):\r\n",
        "    self.__data.append(item)\r\n",
        "\r\n",
        "  def dequeue(self):\r\n",
        "    if not self.is_empty():\r\n",
        "      return self.__data.pop(0)\r\n",
        "    else:\r\n",
        "      return None\r\n",
        "\r\n",
        "  def to_string(self):\r\n",
        "    cadena = \"\"\r\n",
        "    for elem in self.__data:\r\n",
        "      cadena = cadena + \" | \" + elem  \r\n",
        "    cadena = cadena + \" | \"\r\n",
        "    return cadena"
      ],
      "execution_count": null,
      "outputs": []
    },
    {
      "cell_type": "code",
      "metadata": {
        "id": "BnkRX_nqT7Oz"
      },
      "source": [
        "class BoundedPriorityQueue:\r\n",
        "  def __init__( self , niveles ):\r\n",
        "    self.__data = [ Queue() for x in range(niveles) ]\r\n",
        "    self.__size = 0\r\n",
        "\r\n",
        "  def is_empty( self ):\r\n",
        "    return self.__size == 0\r\n",
        "    \r\n",
        "  def length( self ):\r\n",
        "    return self.__size\r\n",
        "    \r\n",
        "  def enqueue( self , prioridad , elem ):\r\n",
        "    if prioridad < len(self.__data) and prioridad >= 0:\r\n",
        "        self.__data[prioridad].enqueue(elem)\r\n",
        "        self.__size +=1\r\n",
        "    else:\r\n",
        "        print(f\"El elemento {elem} esta fuera de rango.\")\r\n",
        "    \r\n",
        "  def dequeue( self ):\r\n",
        "    if not self.is_empty():\r\n",
        "      nivel = 0\r\n",
        "      while self.__data[nivel].is_empty():\r\n",
        "        nivel += 1\r\n",
        "    elif self.is_empty(): \r\n",
        "      print(\"Fin de la cola\")\r\n",
        "    return self.__data[nivel].dequeue()\r\n",
        "\r\n",
        "  def dequeueAutomatico(self):\r\n",
        "    while not self.is_empty():\r\n",
        "      print(\"\")\r\n",
        "      self.dequeue()\r\n",
        "      self.to_string()\r\n",
        "    \r\n",
        "  def to_string( self ):\r\n",
        "    for nivel in range( len(self.__data) ):\r\n",
        "      print(f\" Nivel { nivel } --> { self.__data[nivel].to_string() } \")\r\n"
      ],
      "execution_count": null,
      "outputs": []
    },
    {
      "cell_type": "code",
      "metadata": {
        "colab": {
          "base_uri": "https://localhost:8080/",
          "height": 231
        },
        "id": "N1sArSOOWPVk",
        "outputId": "52cfc56d-d2c7-4b82-d7e5-4697a0e05c29"
      },
      "source": [
        "cola = BoundedPriorityQueue(6)\r\n",
        "cola.enqueue(4,'Alicia')\r\n",
        "cola.enqueue(1,'Luis')\r\n",
        "cola.enqueue(4,'Alejandro')\r\n",
        "cola.enqueue(3,'Jose')\r\n",
        "cola.enqueue(4,'Fernanda')\r\n",
        "cola.enqueue(6,'Mauricio')\r\n",
        "cola.enqueue(4,'Diana')\r\n",
        "cola.enqueue(3,'Misael')\r\n",
        "cola.enqueue(2,'Maria')\r\n",
        "cola.enqueue(3,'Jesus')\r\n",
        "cola.to_string()\r\n",
        "cola.dequeueAutomatico()"
      ],
      "execution_count": 1,
      "outputs": [
        {
          "output_type": "error",
          "ename": "NameError",
          "evalue": "ignored",
          "traceback": [
            "\u001b[0;31m---------------------------------------------------------------------------\u001b[0m",
            "\u001b[0;31mNameError\u001b[0m                                 Traceback (most recent call last)",
            "\u001b[0;32m<ipython-input-1-ce452ca2cb84>\u001b[0m in \u001b[0;36m<module>\u001b[0;34m()\u001b[0m\n\u001b[0;32m----> 1\u001b[0;31m \u001b[0mcola\u001b[0m \u001b[0;34m=\u001b[0m \u001b[0mBoundedPriorityQueue\u001b[0m\u001b[0;34m(\u001b[0m\u001b[0;36m6\u001b[0m\u001b[0;34m)\u001b[0m\u001b[0;34m\u001b[0m\u001b[0;34m\u001b[0m\u001b[0m\n\u001b[0m\u001b[1;32m      2\u001b[0m \u001b[0mcola\u001b[0m\u001b[0;34m.\u001b[0m\u001b[0menqueue\u001b[0m\u001b[0;34m(\u001b[0m\u001b[0;36m4\u001b[0m\u001b[0;34m,\u001b[0m\u001b[0;34m'Alicia'\u001b[0m\u001b[0;34m)\u001b[0m\u001b[0;34m\u001b[0m\u001b[0;34m\u001b[0m\u001b[0m\n\u001b[1;32m      3\u001b[0m \u001b[0mcola\u001b[0m\u001b[0;34m.\u001b[0m\u001b[0menqueue\u001b[0m\u001b[0;34m(\u001b[0m\u001b[0;36m1\u001b[0m\u001b[0;34m,\u001b[0m\u001b[0;34m'Luis'\u001b[0m\u001b[0;34m)\u001b[0m\u001b[0;34m\u001b[0m\u001b[0;34m\u001b[0m\u001b[0m\n\u001b[1;32m      4\u001b[0m \u001b[0mcola\u001b[0m\u001b[0;34m.\u001b[0m\u001b[0menqueue\u001b[0m\u001b[0;34m(\u001b[0m\u001b[0;36m4\u001b[0m\u001b[0;34m,\u001b[0m\u001b[0;34m'Alejandro'\u001b[0m\u001b[0;34m)\u001b[0m\u001b[0;34m\u001b[0m\u001b[0;34m\u001b[0m\u001b[0m\n\u001b[1;32m      5\u001b[0m \u001b[0mcola\u001b[0m\u001b[0;34m.\u001b[0m\u001b[0menqueue\u001b[0m\u001b[0;34m(\u001b[0m\u001b[0;36m3\u001b[0m\u001b[0;34m,\u001b[0m\u001b[0;34m'Jose'\u001b[0m\u001b[0;34m)\u001b[0m\u001b[0;34m\u001b[0m\u001b[0;34m\u001b[0m\u001b[0m\n",
            "\u001b[0;31mNameError\u001b[0m: name 'BoundedPriorityQueue' is not defined"
          ]
        }
      ]
    }
  ]
}