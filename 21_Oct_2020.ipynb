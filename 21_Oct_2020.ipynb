{
  "nbformat": 4,
  "nbformat_minor": 0,
  "metadata": {
    "colab": {
      "name": "21-Oct-2020.ipynb",
      "provenance": [],
      "authorship_tag": "ABX9TyOnC1Akycg3B2eXVn3Gc3CF",
      "include_colab_link": true
    },
    "kernelspec": {
      "name": "python3",
      "display_name": "Python 3"
    }
  },
  "cells": [
    {
      "cell_type": "markdown",
      "metadata": {
        "id": "view-in-github",
        "colab_type": "text"
      },
      "source": [
        "<a href=\"https://colab.research.google.com/github/Oscar-Hernandez-creator/ODBH_EDD_1358_220/blob/master/21_Oct_2020.ipynb\" target=\"_parent\"><img src=\"https://colab.research.google.com/assets/colab-badge.svg\" alt=\"Open In Colab\"/></a>"
      ]
    },
    {
      "cell_type": "code",
      "metadata": {
        "id": "Za51_i5StXbm",
        "outputId": "817dbcc9-087f-4c44-e1d7-e3f61affe307",
        "colab": {
          "base_uri": "https://localhost:8080/",
          "height": 68
        }
      },
      "source": [
        "#Estilo tradicional encapsulamiento\n",
        "class SmartPhone:\n",
        "    def __init__( self , m):\n",
        "        self.__marca = m\n",
        "    \n",
        "    def set_marca(self,m):\n",
        "        self.__marca = m\n",
        "\n",
        "    def get_marca(self,m):\n",
        "        return self.__marca\n",
        "\n",
        "    def to_string(self):\n",
        "        return \"La marca del telefono es: \" + self.__marca\n",
        "\n",
        "\n",
        "sp1 = SmartPhone(\"Huawei\")\n",
        "print( sp1.to_string() )\n",
        "sp1__marca =\"iPhone\"\n",
        "print(sp1.to_string())\n",
        "sp1.set_marca = \"Samsung\"\n",
        "print( sp1.to_string())\n",
        "sp1.marca = \"Samsung\""
      ],
      "execution_count": 31,
      "outputs": [
        {
          "output_type": "stream",
          "text": [
            "La marca del telefono es: Huawei\n",
            "La marca del telefono es: Huawei\n",
            "La marca del telefono es: Huawei\n"
          ],
          "name": "stdout"
        }
      ]
    },
    {
      "cell_type": "code",
      "metadata": {
        "id": "dtUYzFi8xbU2",
        "outputId": "ee44ccc1-2d39-4046-a517-8ed94e88d33d",
        "colab": {
          "base_uri": "https://localhost:8080/",
          "height": 119
        }
      },
      "source": [
        "#Estilo phyton 3\n",
        "class SmartPhone:\n",
        "    def __init__(self,m):\n",
        "        self.marca = m #LLamando al metodo get \n",
        "\n",
        "    @property\n",
        "    def marca(self): #se define get y se declara set.marca\n",
        "       # print(\"En el metodo get de marca\")\n",
        "        return self.__marca\n",
        "\n",
        "    @marca.setter\n",
        "    def marca(self,m):\n",
        "        if m in [\"Lenovo\",\"Sony\",\"Motorola\",\"iPhone SE\",\"Hawei\",\"Xiaomi\"]:\n",
        "            self.__marca = m\n",
        "        else:\n",
        "            print(\"Asignacion valida\")\n",
        "\n",
        "    def to_string(self):\n",
        "        return \"Marca = \" + self.marca\n",
        "\n",
        "sp2 = SmartPhone (\"Xiaomi\")\n",
        "print(sp2.to_string())\n",
        "\n",
        "sp2.__marca = \"iPhone SE\"\n",
        "print(sp2.to_string())\n",
        "\n",
        "sp2.marca = \"Motorola\"#invocacion del metodo set\n",
        "print(sp2.to_string())\n",
        "\n",
        "print(sp2.marca)#invocacion del metodo get \n",
        "sp2.marca = \"8756\"\n",
        "print(sp2.to_string())\n"
      ],
      "execution_count": 30,
      "outputs": [
        {
          "output_type": "stream",
          "text": [
            "Marca = Xiaomi\n",
            "Marca = Xiaomi\n",
            "Marca = Motorola\n",
            "Motorola\n",
            "Asignacion valida\n",
            "Marca = Motorola\n"
          ],
          "name": "stdout"
        }
      ]
    },
    {
      "cell_type": "code",
      "metadata": {
        "id": "lGonQ9Wt5MbO"
      },
      "source": [
        "class TelefonoTrabajo(SmartPhone):\n",
        "    def __init__(self,m):\n",
        "        self.marca = m\n",
        "\n",
        "sp3 = TelefonoTrabajo(\"Motorola\")\n",
        "print(dir(sp3))\n",
        "print(sp3.to_string())"
      ],
      "execution_count": null,
      "outputs": []
    }
  ]
}