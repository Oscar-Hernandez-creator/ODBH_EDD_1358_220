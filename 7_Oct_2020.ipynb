{
  "nbformat": 4,
  "nbformat_minor": 0,
  "metadata": {
    "colab": {
      "name": "7-Oct-2020.ipynb",
      "provenance": [],
      "authorship_tag": "ABX9TyOdEBI86TW0zbeI95oXSkQF",
      "include_colab_link": true
    },
    "kernelspec": {
      "name": "python3",
      "display_name": "Python 3"
    }
  },
  "cells": [
    {
      "cell_type": "markdown",
      "metadata": {
        "id": "view-in-github",
        "colab_type": "text"
      },
      "source": [
        "<a href=\"https://colab.research.google.com/github/Oscar-Hernandez-creator/ODBH_EDD_1358_220/blob/master/7_Oct_2020.ipynb\" target=\"_parent\"><img src=\"https://colab.research.google.com/assets/colab-badge.svg\" alt=\"Open In Colab\"/></a>"
      ]
    },
    {
      "cell_type": "code",
      "metadata": {
        "id": "O3OXvYbsuVUC",
        "outputId": "8b7f922b-7ab1-443d-f13b-0226b7809e7d",
        "colab": {
          "base_uri": "https://localhost:8080/"
        }
      },
      "source": [
        "#Listas multidimencion\n",
        "autos = [\"Mazda\",\"honda\",\"Akura\",\"Ford\",\"VW\"]\n",
        "telefonos = [\"iPhone\",\"Huawei Mate 30\", \"Xiaomi S10\",\"Alcatel t1000\"]\n",
        "sistemas_operativos = [ \"Windows\", \"Linux\" , \"Android\" , \"iOS\" ,\"MacOs\" ]\n",
        "procesadores = [[\"Intel\",3.1,True],[\"AMD\",2.7,False],[\"Motorola\",1.1,False]]\n",
        "\n",
        "lista_2d = [autos,telefonos,sistemas_operativos,procesadores]\n",
        "print(lista_2d)\n",
        "print(lista_2d[1][1])\n",
        "print(lista_2d[2][3])\n",
        "print((lista_2d[1][1][3:6]))\n",
        "print(lista_2d[3][1][1])\n",
        "print(lista_2d[3][2][0][2:6])\n",
        "print(lista_2d[3][0][0][-2:-5:-1])\n",
        "\n",
        "\n",
        "#Concatenar listas\n",
        "colores = [\"Rojo, Verde, Azul, Negro\"]\n",
        "flores = [\"Margarita,Rosa\"]\n",
        "nueva = colores + flores\n",
        "print(nueva)\n",
        "print(colores)\n",
        "print(flores)\n",
        "\n",
        "#con extends\n",
        "colores.extend(flores)\n",
        "print(colores)\n",
        "\n",
        "#unpacking de listas\n",
        "print(\"unpaking\")\n",
        "datos_personales =[\"Jose\",\"Perez\",\"Juarez\",22,1.67,True]\n",
        "nombre = datos_personales[0]\n",
        "print(nombre)\n",
        "nombre,paterno,materno,edad,estatura,fuma = datos_personales\n",
        "print(f\"Nombre:{nombre}\\nEdad{edad}\")"
      ],
      "execution_count": 13,
      "outputs": [
        {
          "output_type": "stream",
          "text": [
            "[['Mazda', 'honda', 'Akura', 'Ford', 'VW'], ['iPhone', 'Huawei Mate 30', 'Xiaomi S10', 'Alcatel t1000'], ['Windows', 'Linux', 'Android', 'iOS', 'MacOs'], [['Intel', 3.1, True], ['AMD', 2.7, False], ['Motorola', 1.1, False]]]\n",
            "Huawei Mate 30\n",
            "iOS\n",
            "wei\n",
            "2.7\n",
            "toro\n",
            "etn\n",
            "['Rojo, Verde, Azul, Negro', 'Margarita,Rosa']\n",
            "['Rojo, Verde, Azul, Negro']\n",
            "['Margarita,Rosa']\n",
            "['Rojo, Verde, Azul, Negro', 'Margarita,Rosa']\n",
            "unpaking\n",
            "Jose\n",
            "Nombre:Jose\n",
            "Edad22\n"
          ],
          "name": "stdout"
        }
      ]
    },
    {
      "cell_type": "code",
      "metadata": {
        "id": "4_u5c8M8uiSk",
        "outputId": "39cf24be-a4ac-4a38-d601-1a9ff9f2e06c",
        "colab": {
          "base_uri": "https://localhost:8080/"
        }
      },
      "source": [
        "#tuplas\n",
        "\n",
        "bd = (\"127.0.0.1\",\"root\",\"toor\",\"1345\")\n",
        "print(f\"usuario de la bd es:{bd[1]}\")\n",
        "#bd[1]= \"user1\"\n",
        "print(bd[1:3])\n"
      ],
      "execution_count": 2,
      "outputs": [
        {
          "output_type": "stream",
          "text": [
            "usuario de la bd es:root\n",
            "('root', 'toor')\n"
          ],
          "name": "stdout"
        }
      ]
    },
    {
      "cell_type": "code",
      "metadata": {
        "id": "h8X0hJ6iwZzs",
        "outputId": "4cec711c-d1c7-4422-cdfa-5fb77dd058b5",
        "colab": {
          "base_uri": "https://localhost:8080/"
        }
      },
      "source": [
        "#Diccionario\n",
        "\n",
        "alumno = {\"nombre\" : \"Juan\", \"edad\" : 22 , \"carrera\" : \"ICO\"}\n",
        "print(alumno)\n",
        "print(alumno[\"edad\"])\n",
        "\n",
        "alumno = {\"nombre\" : \"Juan\", \n",
        "          \"edad\" : 22 , \n",
        "          \"carrera\" : \"ICO\" ,\n",
        "          \"Direccion\" : {\"calle\" : \"bosques de africa\" ,\n",
        "                         \"numero\" : \"33\" ,\n",
        "                         \"Delegacion\" : \"Nezahualcoyotl\" ,\n",
        "                         \"estado\" : \"15\" ,\n",
        "                         \"nombre_estado\" : \"Estado de Mexico\"}\n",
        "          }\n",
        "print(alumno[\"Direccion\"])\n",
        "print(alumno[\"Direccion\"][\"Delegacion\"])\n",
        "print(alumno[\"Direccion\"][\"Delegacion\"][3:7])\n",
        "print(alumno[\"Direccion\"][\"Delegacion\"][3:7].upper())\n",
        "\n",
        "alumno[\"edad\"] = 35\n",
        "print(alumno)\n",
        "\n",
        "alumno[\"promedio\"] = 9.9\n",
        "print(alumno)\n",
        "\n",
        "alumno[\"Direccion\"][\"cp\"] = 17170\n",
        "print(alumno)\n",
        "\n",
        "alumno[\"materia\"]={\"nombre\": \"CyP\",\"calificacion\":10}\n",
        "print(alumno)\n",
        "\n",
        "\n"
      ],
      "execution_count": 14,
      "outputs": [
        {
          "output_type": "stream",
          "text": [
            "{'nombre': 'Juan', 'edad': 22, 'carrera': 'ICO'}\n",
            "22\n",
            "{'calle': 'bosques de africa', 'numero': '33', 'Delegacion': 'Nezahualcoyotl', 'estado': '15', 'nombre_estado': 'Estado de Mexico'}\n",
            "Nezahualcoyotl\n",
            "ahua\n",
            "AHUA\n",
            "{'nombre': 'Juan', 'edad': 35, 'carrera': 'ICO', 'Direccion': {'calle': 'bosques de africa', 'numero': '33', 'Delegacion': 'Nezahualcoyotl', 'estado': '15', 'nombre_estado': 'Estado de Mexico'}}\n",
            "{'nombre': 'Juan', 'edad': 35, 'carrera': 'ICO', 'Direccion': {'calle': 'bosques de africa', 'numero': '33', 'Delegacion': 'Nezahualcoyotl', 'estado': '15', 'nombre_estado': 'Estado de Mexico'}, 'promedio': 9.9}\n",
            "{'nombre': 'Juan', 'edad': 35, 'carrera': 'ICO', 'Direccion': {'calle': 'bosques de africa', 'numero': '33', 'Delegacion': 'Nezahualcoyotl', 'estado': '15', 'nombre_estado': 'Estado de Mexico', 'cp': 17170}, 'promedio': 9.9}\n",
            "{'nombre': 'Juan', 'edad': 35, 'carrera': 'ICO', 'Direccion': {'calle': 'bosques de africa', 'numero': '33', 'Delegacion': 'Nezahualcoyotl', 'estado': '15', 'nombre_estado': 'Estado de Mexico', 'cp': 17170}, 'promedio': 9.9, 'materia': {'nombre': 'CyP', 'calificacion': 10}}\n"
          ],
          "name": "stdout"
        }
      ]
    }
  ]
}