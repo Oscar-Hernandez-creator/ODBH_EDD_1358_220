{
  "nbformat": 4,
  "nbformat_minor": 0,
  "metadata": {
    "colab": {
      "name": "12-oct-2020.ipynb",
      "provenance": [],
      "authorship_tag": "ABX9TyPBmKQENtfNlPR4teVA9W8M",
      "include_colab_link": true
    },
    "kernelspec": {
      "name": "python3",
      "display_name": "Python 3"
    }
  },
  "cells": [
    {
      "cell_type": "markdown",
      "metadata": {
        "id": "view-in-github",
        "colab_type": "text"
      },
      "source": [
        "<a href=\"https://colab.research.google.com/github/Oscar-Hernandez-creator/ODBH_EDD_1358_220/blob/master/12_oct_2020.ipynb\" target=\"_parent\"><img src=\"https://colab.research.google.com/assets/colab-badge.svg\" alt=\"Open In Colab\"/></a>"
      ]
    },
    {
      "cell_type": "code",
      "metadata": {
        "id": "W5XaZjZjWKP0",
        "outputId": "b87ea06c-4d3d-4437-ce3f-98f8251c3b9d",
        "colab": {
          "base_uri": "https://localhost:8080/",
          "height": 71
        }
      },
      "source": [
        "#Diccionarios (continuacion)\n",
        "cliente_banco = {\n",
        "    \"id\" : 1,\n",
        "    \"Nombres\" :(\"Juan\", \"Antonio\"),\n",
        "    \"Paterno\" : \"Garcia\",\n",
        "    \"Materno\" : \"Perez\",\n",
        "    \"Telefonos\" :{\n",
        "        \"casa\":5576458183,\n",
        "        \"Celular\":5541236978,\n",
        "        \"Trabajo\":5547896321,\n",
        "    },\n",
        "    \"Activo\": True,\n",
        "    \"Balance\":234567.89,\n",
        "    \"Targetas\": ({\"Tipo\":\"Debito\",\"Saldo\":250000},{\"Tipo\":\"Credito\",\"Saldo\":3500})\n",
        "    \n",
        "}\n",
        "print(cliente_banco)\n",
        "\n",
        "#cliente_banco[\"Balance\"] = cliente_banco[\"Balance\"]  -1000.98\n",
        "cliente_banco[\"Balance\"] -=1000.98\n",
        "print(cliente_banco)\n",
        "\n",
        "cliente_banco[\"Targetas\"] = ({\"Tipo\": \"Debito\",\"Saldo\",300000},\n",
        "                             {\"Tipo\":\"Credito\",\"Nivel\": \"Oro\",\"Saldo\":500000})\n",
        "print(cliente_banco)\n",
        "\n",
        "cliente_banco[\"Direccion\"] = {\"Calle\": \"Rancho Seco\",\"num\":23}\n",
        "print(cliente_banco)\n",
        "cliente_banco.pop(\"Targetas\")\n",
        "print(cliente_banco)\n",
        "\n"
      ],
      "execution_count": 11,
      "outputs": [
        {
          "output_type": "stream",
          "text": [
            "{'id': 1, 'Nombres': ('Juan', 'Antonio'), 'Paterno': 'Garcia', 'Materno': 'Perez', 'Telefonos': {'casa': 5576458183, 'Celular': 5541236978, 'Trabajo': 5547896321}, 'Activo': True, 'Balance': 234567.89, 'Targetas': ({'Tipo': 'Debito', 'Saldo': 250000}, {'Tipo': 'Credito', 'Saldo': 3500})}\n",
            "{'id': 1, 'Nombres': ('Juan', 'Antonio'), 'Paterno': 'Garcia', 'Materno': 'Perez', 'Telefonos': {'casa': 5576458183, 'Celular': 5541236978, 'Trabajo': 5547896321}, 'Activo': True, 'Balance': 233566.91, 'Targetas': ({'Tipo': 'Debito', 'Saldo': 250000}, {'Tipo': 'Credito', 'Saldo': 3500})}\n"
          ],
          "name": "stdout"
        }
      ]
    },
    {
      "cell_type": "code",
      "metadata": {
        "id": "LkkKb9j-d2Ch",
        "outputId": "ec5f1032-2bdd-4daf-c911-1a30266dff07",
        "colab": {
          "base_uri": "https://localhost:8080/",
          "height": 496
        }
      },
      "source": [
        "llaves = cliente_banco.keys()\n",
        "print(llaves)\n",
        "print(type(llaves))\n",
        "for x in llaves:\n",
        "  print(x)\n",
        "\n",
        "valores = cliente_banco.values()\n",
        "for v in valores:\n",
        "  print(v)\n",
        "\n",
        "pares = cliente_banco.items()\n",
        "print(pares)\n",
        "\n",
        "for elem in pares:\n",
        "  print(f\" {elem[0]} = {elem[1]} \" )"
      ],
      "execution_count": 17,
      "outputs": [
        {
          "output_type": "stream",
          "text": [
            "dict_keys(['id', 'Nombres', 'Paterno', 'Materno', 'Telefonos', 'Activo', 'Balance', 'Targetas'])\n",
            "<class 'dict_keys'>\n",
            "id\n",
            "Nombres\n",
            "Paterno\n",
            "Materno\n",
            "Telefonos\n",
            "Activo\n",
            "Balance\n",
            "Targetas\n",
            "1\n",
            "('Juan', 'Antonio')\n",
            "Garcia\n",
            "Perez\n",
            "{'casa': 5576458183, 'Celular': 5541236978, 'Trabajo': 5547896321}\n",
            "True\n",
            "233566.91\n",
            "({'Tipo': 'Debito', 'Saldo': 250000}, {'Tipo': 'Credito', 'Saldo': 3500})\n",
            "dict_items([('id', 1), ('Nombres', ('Juan', 'Antonio')), ('Paterno', 'Garcia'), ('Materno', 'Perez'), ('Telefonos', {'casa': 5576458183, 'Celular': 5541236978, 'Trabajo': 5547896321}), ('Activo', True), ('Balance', 233566.91), ('Targetas', ({'Tipo': 'Debito', 'Saldo': 250000}, {'Tipo': 'Credito', 'Saldo': 3500}))])\n",
            " id = 1 \n",
            " Nombres = ('Juan', 'Antonio') \n",
            " Paterno = Garcia \n",
            " Materno = Perez \n",
            " Telefonos = {'casa': 5576458183, 'Celular': 5541236978, 'Trabajo': 5547896321} \n",
            " Activo = True \n",
            " Balance = 233566.91 \n",
            " Targetas = ({'Tipo': 'Debito', 'Saldo': 250000}, {'Tipo': 'Credito', 'Saldo': 3500}) \n"
          ],
          "name": "stdout"
        }
      ]
    },
    {
      "cell_type": "code",
      "metadata": {
        "id": "fCka7V60g7zI",
        "outputId": "a39049a7-791c-47b3-8a32-5bea25d7fa76",
        "colab": {
          "base_uri": "https://localhost:8080/",
          "height": 34
        }
      },
      "source": [
        "fruta = {\"Nombre\": \"Manzana\",\"Color\":\"Rojo\",\"Estado\":\"Chihuahua\"}\n",
        "otras_caracteristicas = {\"Vitamina\":\"D\"}\n",
        "fruta.update(otras_caracteristicas)\n",
        "print(fruta)"
      ],
      "execution_count": 18,
      "outputs": [
        {
          "output_type": "stream",
          "text": [
            "{'Nombre': 'Manzana', 'Color': 'Rojo', 'Estado': 'Chihuahua', 'Vitamina': 'D'}\n"
          ],
          "name": "stdout"
        }
      ]
    },
    {
      "cell_type": "markdown",
      "metadata": {
        "id": "r3DZnM75iUJz"
      },
      "source": [
        "#Funciones\n",
        "-Recibe de 0 a n argumentos de entrada\n",
        "-recibe solo un valor aun que ese valor sea Nonne (Nulo)\n",
        "-tiene un nombre unico en el contextro\n",
        "-solo se pueden hacer dos cosas con las funciones\n",
        "    -definirla\n",
        "    -llamarla\n",
        "    "
      ]
    },
    {
      "cell_type": "code",
      "metadata": {
        "id": "IBM4oWuZjA2I",
        "outputId": "3d6b6f45-4b19-44dd-a732-9f536da79012",
        "colab": {
          "base_uri": "https://localhost:8080/",
          "height": 51
        }
      },
      "source": [
        "def suma(a,b):\n",
        "    return a+b\n",
        "\n",
        "def saludar():\n",
        "    print(\"Hola,¿como estas?\")\n",
        "    return None\n",
        "\n",
        "x = 10\n",
        "y = 20\n",
        "c = suma(x,y)\n",
        "\n",
        "print(c)\n",
        "saludar()"
      ],
      "execution_count": 21,
      "outputs": [
        {
          "output_type": "stream",
          "text": [
            "30\n",
            "Hola,¿como estas?\n"
          ],
          "name": "stdout"
        }
      ]
    },
    {
      "cell_type": "markdown",
      "metadata": {
        "id": "cKcAMnAOkx95"
      },
      "source": [
        "None y las funciones \n",
        "Aprovechar el uso de none en paso de parametros"
      ]
    },
    {
      "cell_type": "code",
      "metadata": {
        "id": "gyGR7q5qk6b9",
        "outputId": "0f1d90ac-e62b-411b-dc2a-ed2cb21ffc9f",
        "colab": {
          "base_uri": "https://localhost:8080/",
          "height": 51
        }
      },
      "source": [
        "def calcular (base,veces):\n",
        "    if base != None:\n",
        "       resultado = base * veces\n",
        "    else:\n",
        "        resultado = \"Desconocido\"\n",
        "    return resultado\n",
        "\n",
        "\n",
        "\n",
        "print(calcular(4,3))\n",
        "print(calcular(None,3))\n"
      ],
      "execution_count": 29,
      "outputs": [
        {
          "output_type": "stream",
          "text": [
            "12\n",
            "Desconocido\n"
          ],
          "name": "stdout"
        }
      ]
    }
  ]
}