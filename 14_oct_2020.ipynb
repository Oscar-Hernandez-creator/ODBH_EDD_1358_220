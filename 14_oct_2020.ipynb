{
  "nbformat": 4,
  "nbformat_minor": 0,
  "metadata": {
    "colab": {
      "name": "14-oct-2020.ipynb",
      "provenance": [],
      "authorship_tag": "ABX9TyNLu8iJjy7kSta3b0WPkyn0",
      "include_colab_link": true
    },
    "kernelspec": {
      "name": "python3",
      "display_name": "Python 3"
    }
  },
  "cells": [
    {
      "cell_type": "markdown",
      "metadata": {
        "id": "view-in-github",
        "colab_type": "text"
      },
      "source": [
        "<a href=\"https://colab.research.google.com/github/Oscar-Hernandez-creator/ODBH_EDD_1358_220/blob/master/14_oct_2020.ipynb\" target=\"_parent\"><img src=\"https://colab.research.google.com/assets/colab-badge.svg\" alt=\"Open In Colab\"/></a>"
      ]
    },
    {
      "cell_type": "code",
      "metadata": {
        "id": "a_yKKX23pNyP",
        "outputId": "1d86f0bc-5cd1-43ae-8f9e-51338491e746",
        "colab": {
          "base_uri": "https://localhost:8080/",
          "height": 68
        }
      },
      "source": [
        "def calcular (a, b, c):\n",
        "    x = a + (b/c)\n",
        "    return x\n",
        "print(calcular(5,9,3))\n",
        "print(calcular(a=5,b=9,c=3))\n",
        "\n",
        "def calcular_v2(a=10, b=20, c=5):\n",
        "    x = a + (b/c)\n",
        "    return x\n",
        "print(calcular_v2(40,8, 2))\n",
        "\n"
      ],
      "execution_count": 21,
      "outputs": [
        {
          "output_type": "stream",
          "text": [
            "8.0\n",
            "8.0\n",
            "44.0\n"
          ],
          "name": "stdout"
        }
      ]
    },
    {
      "cell_type": "markdown",
      "metadata": {
        "id": "SbbaiNzMrwV7"
      },
      "source": [
        "# argumentos a funciones por tupla * \n",
        "se envian los argumentos en un conjunto de elementos dentro de una tupla"
      ]
    },
    {
      "cell_type": "code",
      "metadata": {
        "id": "Cdmbn2issFFF"
      },
      "source": [
        "def calculo (*elem):\n",
        "    print(elem)\n",
        "    x = elem [0] + (elem[1] / elem[2])\n",
        "    return x\n",
        "    print(calculo(5,9,3,8,8,8,8))"
      ],
      "execution_count": 29,
      "outputs": []
    },
    {
      "cell_type": "markdown",
      "metadata": {
        "id": "wkJV5q8-svgY"
      },
      "source": [
        "#argumentos como diccionario\n"
      ]
    },
    {
      "cell_type": "code",
      "metadata": {
        "id": "StjKbo5Os2qz"
      },
      "source": [
        "def calculo(**elem):\n",
        "    print(elem)\n",
        "    print(calculo(a=5,b=9,c=3))\n",
        "    x = elem [\"a\"] + (elem[\"b\"]/elem[\"c\"])\n",
        "    return x\n",
        "    print(calculo(a=5,b=9,c=3))\n",
        "    "
      ],
      "execution_count": 24,
      "outputs": []
    },
    {
      "cell_type": "markdown",
      "metadata": {
        "id": "lyZmtY8G2i7K"
      },
      "source": [
        "#archivos\n",
        "-abrirlos\n",
        "        *un str con la ruta del archivo\n",
        "        * dos caracteres 1->modo de apertura (r,w) y el 2 formato(texto o binario)\n",
        "-leerlos\n",
        "-modificarlos\n"
      ]
    },
    {
      "cell_type": "code",
      "metadata": {
        "id": "cHmzJ3ui3Wsa"
      },
      "source": [
        "archivo = open(\"ejemplo.txt\", \"wt\")\n",
        "\n",
        "archivo.write(\"Hola mundo de archivos\")\n",
        "\n",
        "archivo.close()"
      ],
      "execution_count": 25,
      "outputs": []
    },
    {
      "cell_type": "code",
      "metadata": {
        "id": "g5M84bx55b22"
      },
      "source": [
        "!(cat ejemplo.txt > otra.txt)"
      ],
      "execution_count": 26,
      "outputs": []
    }
  ]
}