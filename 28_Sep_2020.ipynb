{
  "nbformat": 4,
  "nbformat_minor": 0,
  "metadata": {
    "colab": {
      "name": "28-Sep-2020.ipynb",
      "provenance": [],
      "authorship_tag": "ABX9TyPauR4qn0hFEhvJuV1MZT+l",
      "include_colab_link": true
    },
    "kernelspec": {
      "name": "python3",
      "display_name": "Python 3"
    }
  },
  "cells": [
    {
      "cell_type": "markdown",
      "metadata": {
        "id": "view-in-github",
        "colab_type": "text"
      },
      "source": [
        "<a href=\"https://colab.research.google.com/github/Oscar-Hernandez-creator/ODBH_EDD_1358_220/blob/master/28_Sep_2020.ipynb\" target=\"_parent\"><img src=\"https://colab.research.google.com/assets/colab-badge.svg\" alt=\"Open In Colab\"/></a>"
      ]
    },
    {
      "cell_type": "code",
      "metadata": {
        "id": "sDSbpd6KYuys",
        "outputId": "f0bf59eb-5356-45aa-cd2b-adb5979727d0",
        "colab": {
          "base_uri": "https://localhost:8080/",
          "height": 34
        }
      },
      "source": [
        "print (\"Hola ,colab reserch\")\n",
        "nombre = \"Edd\"\n",
        "val = 10"
      ],
      "execution_count": null,
      "outputs": [
        {
          "output_type": "stream",
          "text": [
            "Hola ,colab reserch\n"
          ],
          "name": "stdout"
        }
      ]
    },
    {
      "cell_type": "code",
      "metadata": {
        "id": "7EuSgBt1ZVTf",
        "outputId": "226b0011-f455-45f1-8a0e-e8129724ad50",
        "colab": {
          "base_uri": "https://localhost:8080/",
          "height": 51
        }
      },
      "source": [
        "print (nombre)\n",
        "print(val)"
      ],
      "execution_count": null,
      "outputs": [
        {
          "output_type": "stream",
          "text": [
            "Edd\n",
            "10\n"
          ],
          "name": "stdout"
        }
      ]
    },
    {
      "cell_type": "markdown",
      "metadata": {
        "id": "GtlOgiwnapqj"
      },
      "source": [
        "# Hola esto es un encabezado\n",
        "## Encabezado lvl 2\n",
        "### Sintaxis Markdown\n",
        "\n",
        "* elem 1\n",
        "* elem 2\n",
        "* elem 3\n",
        "1. Fresa\n",
        "1. Manzana\n",
        "1. Pera\n",
        "esto es un texto largo y quiero poner letras negritas y tambien quiero poner italica\n",
        "[Ir a Google] https://www.google.com/"
      ]
    },
    {
      "cell_type": "code",
      "metadata": {
        "id": "aGFN0Ve3dDyd"
      },
      "source": [
        "class Silla():\n",
        "   def __init__( self ):\n",
        "      self.material = \" \"\n",
        "      self.color = \" \"\n",
        "   def to_string ( self ):\n",
        "\n",
        "       print( \"--------\" )\n",
        "       print(f\" Material: {self.material}  \" )\n",
        "       print(f\" {self.color} -----\"   )\n"
      ],
      "execution_count": null,
      "outputs": []
    },
    {
      "cell_type": "code",
      "metadata": {
        "id": "2P_m7qUggu5m",
        "outputId": "5017b1bf-6756-45d1-efdf-5690b15fca81",
        "colab": {
          "base_uri": "https://localhost:8080/",
          "height": 68
        }
      },
      "source": [
        "obj = Silla()\n",
        "obj.material = \"Madera\"\n",
        "obj.color = \"Cafe\"\n",
        "obj.to_string()\n"
      ],
      "execution_count": null,
      "outputs": [
        {
          "output_type": "stream",
          "text": [
            "--------\n",
            " Material: Madera  \n",
            " Cafe -----\n"
          ],
          "name": "stdout"
        }
      ]
    }
  ]
}