{
  "nbformat": 4,
  "nbformat_minor": 0,
  "metadata": {
    "colab": {
      "name": "22-01-2021.ipynb",
      "provenance": [],
      "authorship_tag": "ABX9TyMYRF3PTLmXTjgAvXb8KZxs",
      "include_colab_link": true
    },
    "kernelspec": {
      "name": "python3",
      "display_name": "Python 3"
    }
  },
  "cells": [
    {
      "cell_type": "markdown",
      "metadata": {
        "id": "view-in-github",
        "colab_type": "text"
      },
      "source": [
        "<a href=\"https://colab.research.google.com/github/Oscar-Hernandez-creator/ODBH_EDD_1358_220/blob/master/22_01_2021.ipynb\" target=\"_parent\"><img src=\"https://colab.research.google.com/assets/colab-badge.svg\" alt=\"Open In Colab\"/></a>"
      ]
    },
    {
      "cell_type": "code",
      "metadata": {
        "id": "MIxAqBbRSZEN"
      },
      "source": [
        "class NodoArbol:\r\n",
        "    def __init__(self, value,left = None, right = None):\r\n",
        "        self.data = value\r\n",
        "        self.left = left\r\n",
        "        self.right = right"
      ],
      "execution_count": 29,
      "outputs": []
    },
    {
      "cell_type": "code",
      "metadata": {
        "id": "8wzH8ZZoe_fY"
      },
      "source": [
        "class ArbolBinarioBusqueda:\r\n",
        "  def init( self ):\r\n",
        "    self.__root = None\r\n",
        "\r\n",
        "  def insert( self, value):\r\n",
        "    if self.__root == None:\r\n",
        "      self.__root = NodoArbol(value)\r\n",
        "    else:\r\n",
        "      self.insert( self.root , value )\r\n",
        "\r\n",
        "  def __insert__(self, nodo, value):#recursividad\r\n",
        "    if nodo.data == value:\r\n",
        "      print(\"El nodo ya existe  \", value)\r\n",
        "    elif value < nodo.data:\r\n",
        "      #ir a la izquierda\r\n",
        "      if nodo.left == None:\r\n",
        "        nodo.left= NodoArbol(value)\r\n",
        "      else:\r\n",
        "        self.__insert__( nodo.left, value )\r\n",
        "\r\n",
        "    else:\r\n",
        "      #ir a la derecha\r\n",
        "      if nodo.right == None:\r\n",
        "        nodo.right= NodoArbol(value)\r\n",
        "      else:\r\n",
        "        self.__insert__( nodo.right, value )\r\n",
        "\r\n",
        "  def transversal( self, format = \"in\"):#in,pos,pre\r\n",
        "   print(\"recorrido in\")\r\n",
        "   if format==\"in\":\r\n",
        "    self.recorrido_in( self.__root )\r\n",
        "   elif format == \"pre\":\r\n",
        "    print(\"\\nRecorrido en Preorden\")\r\n",
        "   elif format == \"pos\":\r\n",
        "    print(\"\\nRecorrido en Pos Orden\")\r\n",
        "   else:\r\n",
        "    print(\"Formato no válido\")\r\n",
        "\r\n",
        "  def recorrido_in( self, nodo):\r\n",
        "    if nodo == None:\r\n",
        "      #print(\"Caso base\")\r\n",
        "      pass\r\n",
        "    else:\r\n",
        "      self.recorrido_in( nodo.left)\r\n",
        "      print(nodo.data , end=\",\")\r\n",
        "      self.recorrido_in( nodo.right )\r\n",
        "\r\n",
        "  def recorrido_pre( self, nodo):\r\n",
        "    if nodo == None:\r\n",
        "\r\n",
        "      pass\r\n",
        "    else:\r\n",
        "      print(nodo.data , end=\",\")\r\n",
        "      self.recorrido_pre( nodo.left)\r\n",
        "      self.recorrido_pre( nodo.right )\r\n",
        "\r\n",
        "  def recorrido_pos( self, nodo):\r\n",
        "    if nodo == None:\r\n",
        "      #print(\"Caso base\")\r\n",
        "      pass\r\n",
        "    else:\r\n",
        "      self.recorrido_pos( nodo.left)\r\n",
        "      self.__recorrido_pos( nodo.right )\r\n",
        "      print(nodo.data , end=\",\")\r\n",
        "\r\n",
        "  def search(self,value):\r\n",
        "      if self.__root == None:\r\n",
        "          print(\"Arbol vacio\")\r\n",
        "      else:\r\n",
        "          return self.__search(self.__root,value)\r\n",
        "\r\n",
        "  def __search(self,nodo,value):\r\n",
        "      if nodo == None:\r\n",
        "          return None\r\n",
        "      elif nodo.data == value:\r\n",
        "          return nodo\r\n",
        "      elif value < nodo.data:\r\n",
        "              print(\"Ir a la izquierda\")\r\n",
        "              return self.__search(nodo.left, value)\r\n",
        "      else:\r\n",
        "              print(\"Ir a la derecha\")\r\n",
        "              return self.__search(nodo.right, value)              "
      ],
      "execution_count": 30,
      "outputs": []
    },
    {
      "cell_type": "code",
      "metadata": {
        "colab": {
          "base_uri": "https://localhost:8080/",
          "height": 350
        },
        "id": "5VOiO_GXdJPY",
        "outputId": "850df804-cf3f-4f0e-ca02-d3307a888227"
      },
      "source": [
        "abb = ArbolBinarioBusqueda()\r\n",
        "abb.insert( 50 )\r\n",
        "abb.insert( 30 )\r\n",
        "abb.insert( 60 )\r\n",
        "abb.insert( 35 )\r\n",
        "abb.insert( 89 )\r\n",
        "abb.insert( 70 )\r\n",
        "abb.insert( 1 )\r\n",
        "abb.transversal()\r\n",
        "abb.transversal(\"Pre\")\r\n",
        "abb.transversal(\"Pos\")\r\n",
        "res = abb.search(70)\r\n",
        "print(f\"El nodo es:{res.data}, hijo izq{res.left},hijo der{res.right}\")\r\n",
        "res = abb.search(30)\r\n",
        "print(f\"El nodo es:{res.data}, hijo izq{res.left.data},hijo der{res.right.data}\")"
      ],
      "execution_count": 31,
      "outputs": [
        {
          "output_type": "error",
          "ename": "AttributeError",
          "evalue": "ignored",
          "traceback": [
            "\u001b[0;31m---------------------------------------------------------------------------\u001b[0m",
            "\u001b[0;31mAttributeError\u001b[0m                            Traceback (most recent call last)",
            "\u001b[0;32m<ipython-input-31-ae553ce5cb73>\u001b[0m in \u001b[0;36m<module>\u001b[0;34m()\u001b[0m\n\u001b[1;32m      1\u001b[0m \u001b[0mabb\u001b[0m \u001b[0;34m=\u001b[0m \u001b[0mArbolBinarioBusqueda\u001b[0m\u001b[0;34m(\u001b[0m\u001b[0;34m)\u001b[0m\u001b[0;34m\u001b[0m\u001b[0;34m\u001b[0m\u001b[0m\n\u001b[0;32m----> 2\u001b[0;31m \u001b[0mabb\u001b[0m\u001b[0;34m.\u001b[0m\u001b[0minsert\u001b[0m\u001b[0;34m(\u001b[0m \u001b[0;36m50\u001b[0m \u001b[0;34m)\u001b[0m\u001b[0;34m\u001b[0m\u001b[0;34m\u001b[0m\u001b[0m\n\u001b[0m\u001b[1;32m      3\u001b[0m \u001b[0mabb\u001b[0m\u001b[0;34m.\u001b[0m\u001b[0minsert\u001b[0m\u001b[0;34m(\u001b[0m \u001b[0;36m30\u001b[0m \u001b[0;34m)\u001b[0m\u001b[0;34m\u001b[0m\u001b[0;34m\u001b[0m\u001b[0m\n\u001b[1;32m      4\u001b[0m \u001b[0mabb\u001b[0m\u001b[0;34m.\u001b[0m\u001b[0minsert\u001b[0m\u001b[0;34m(\u001b[0m \u001b[0;36m60\u001b[0m \u001b[0;34m)\u001b[0m\u001b[0;34m\u001b[0m\u001b[0;34m\u001b[0m\u001b[0m\n\u001b[1;32m      5\u001b[0m \u001b[0mabb\u001b[0m\u001b[0;34m.\u001b[0m\u001b[0minsert\u001b[0m\u001b[0;34m(\u001b[0m \u001b[0;36m35\u001b[0m \u001b[0;34m)\u001b[0m\u001b[0;34m\u001b[0m\u001b[0;34m\u001b[0m\u001b[0m\n",
            "\u001b[0;32m<ipython-input-30-71ded81fae98>\u001b[0m in \u001b[0;36minsert\u001b[0;34m(self, value)\u001b[0m\n\u001b[1;32m      4\u001b[0m \u001b[0;34m\u001b[0m\u001b[0m\n\u001b[1;32m      5\u001b[0m   \u001b[0;32mdef\u001b[0m \u001b[0minsert\u001b[0m\u001b[0;34m(\u001b[0m \u001b[0mself\u001b[0m\u001b[0;34m,\u001b[0m \u001b[0mvalue\u001b[0m\u001b[0;34m)\u001b[0m\u001b[0;34m:\u001b[0m\u001b[0;34m\u001b[0m\u001b[0;34m\u001b[0m\u001b[0m\n\u001b[0;32m----> 6\u001b[0;31m     \u001b[0;32mif\u001b[0m \u001b[0mself\u001b[0m\u001b[0;34m.\u001b[0m\u001b[0m__root\u001b[0m \u001b[0;34m==\u001b[0m \u001b[0;32mNone\u001b[0m\u001b[0;34m:\u001b[0m\u001b[0;34m\u001b[0m\u001b[0;34m\u001b[0m\u001b[0m\n\u001b[0m\u001b[1;32m      7\u001b[0m       \u001b[0mself\u001b[0m\u001b[0;34m.\u001b[0m\u001b[0m__root\u001b[0m \u001b[0;34m=\u001b[0m \u001b[0mNodoArbol\u001b[0m\u001b[0;34m(\u001b[0m\u001b[0mvalue\u001b[0m\u001b[0;34m)\u001b[0m\u001b[0;34m\u001b[0m\u001b[0;34m\u001b[0m\u001b[0m\n\u001b[1;32m      8\u001b[0m     \u001b[0;32melse\u001b[0m\u001b[0;34m:\u001b[0m\u001b[0;34m\u001b[0m\u001b[0;34m\u001b[0m\u001b[0m\n",
            "\u001b[0;31mAttributeError\u001b[0m: 'ArbolBinarioBusqueda' object has no attribute '_ArbolBinarioBusqueda__root'"
          ]
        }
      ]
    }
  ]
}